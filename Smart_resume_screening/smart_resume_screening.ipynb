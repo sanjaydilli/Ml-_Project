{
 "cells": [
  {
   "cell_type": "code",
   "execution_count": 1,
   "metadata": {
    "colab": {
     "base_uri": "https://localhost:8080/"
    },
    "id": "4Ii2S8WmYlaS",
    "outputId": "affd49a6-9148-4e82-9766-64329cde21d2"
   },
   "outputs": [
    {
     "name": "stdout",
     "output_type": "stream",
     "text": [
      "UTF-8\n"
     ]
    }
   ],
   "source": [
    "import locale\n",
    "print(locale.getpreferredencoding())"
   ]
  },
  {
   "cell_type": "code",
   "execution_count": null,
   "metadata": {
    "id": "Vkok1YdCOiJQ"
   },
   "outputs": [],
   "source": [
    "from google.colab import drive\n",
    "drive.mount('/content/drive')"
   ]
  },
  {
   "cell_type": "code",
   "execution_count": null,
   "metadata": {
    "id": "wriCe0CXYmVm"
   },
   "outputs": [],
   "source": [
    "import locale\n",
    "def getpreferredencoding(do_setlocale = True):\n",
    "    return \"UTF-8\"\n",
    "locale.getpreferredencoding = getpreferredencoding"
   ]
  },
  {
   "cell_type": "code",
   "execution_count": 2,
   "metadata": {
    "colab": {
     "base_uri": "https://localhost:8080/"
    },
    "id": "q_WH9dk2VNoQ",
    "outputId": "ce59038d-913e-46f2-b828-0be876178cbd"
   },
   "outputs": [
    {
     "name": "stdout",
     "output_type": "stream",
     "text": [
      "Requirement already satisfied: spacy in /Users/sanjaydilli/anaconda3/lib/python3.11/site-packages (3.7.4)\n",
      "Collecting spacy_transformers\n",
      "  Obtaining dependency information for spacy_transformers from https://files.pythonhosted.org/packages/9e/2e/bf101506a2af14bf13f64c1914a25ef8723c7648b402014dc624d90ce8b7/spacy_transformers-1.3.5-cp311-cp311-macosx_11_0_arm64.whl.metadata\n",
      "  Downloading spacy_transformers-1.3.5-cp311-cp311-macosx_11_0_arm64.whl.metadata (7.0 kB)\n",
      "Requirement already satisfied: spacy-legacy<3.1.0,>=3.0.11 in /Users/sanjaydilli/anaconda3/lib/python3.11/site-packages (from spacy) (3.0.12)\n",
      "Requirement already satisfied: spacy-loggers<2.0.0,>=1.0.0 in /Users/sanjaydilli/anaconda3/lib/python3.11/site-packages (from spacy) (1.0.5)\n",
      "Requirement already satisfied: murmurhash<1.1.0,>=0.28.0 in /Users/sanjaydilli/anaconda3/lib/python3.11/site-packages (from spacy) (1.0.10)\n",
      "Requirement already satisfied: cymem<2.1.0,>=2.0.2 in /Users/sanjaydilli/anaconda3/lib/python3.11/site-packages (from spacy) (2.0.8)\n",
      "Requirement already satisfied: preshed<3.1.0,>=3.0.2 in /Users/sanjaydilli/anaconda3/lib/python3.11/site-packages (from spacy) (3.0.9)\n",
      "Requirement already satisfied: thinc<8.3.0,>=8.2.2 in /Users/sanjaydilli/anaconda3/lib/python3.11/site-packages (from spacy) (8.2.3)\n",
      "Requirement already satisfied: wasabi<1.2.0,>=0.9.1 in /Users/sanjaydilli/anaconda3/lib/python3.11/site-packages (from spacy) (1.1.2)\n",
      "Requirement already satisfied: srsly<3.0.0,>=2.4.3 in /Users/sanjaydilli/anaconda3/lib/python3.11/site-packages (from spacy) (2.4.8)\n",
      "Requirement already satisfied: catalogue<2.1.0,>=2.0.6 in /Users/sanjaydilli/anaconda3/lib/python3.11/site-packages (from spacy) (2.0.10)\n",
      "Requirement already satisfied: weasel<0.4.0,>=0.1.0 in /Users/sanjaydilli/anaconda3/lib/python3.11/site-packages (from spacy) (0.3.4)\n",
      "Requirement already satisfied: typer<0.10.0,>=0.3.0 in /Users/sanjaydilli/anaconda3/lib/python3.11/site-packages (from spacy) (0.9.4)\n",
      "Requirement already satisfied: smart-open<7.0.0,>=5.2.1 in /Users/sanjaydilli/anaconda3/lib/python3.11/site-packages (from spacy) (5.2.1)\n",
      "Requirement already satisfied: tqdm<5.0.0,>=4.38.0 in /Users/sanjaydilli/anaconda3/lib/python3.11/site-packages (from spacy) (4.65.0)\n",
      "Requirement already satisfied: requests<3.0.0,>=2.13.0 in /Users/sanjaydilli/anaconda3/lib/python3.11/site-packages (from spacy) (2.31.0)\n",
      "Requirement already satisfied: pydantic!=1.8,!=1.8.1,<3.0.0,>=1.7.4 in /Users/sanjaydilli/anaconda3/lib/python3.11/site-packages (from spacy) (1.10.8)\n",
      "Requirement already satisfied: jinja2 in /Users/sanjaydilli/anaconda3/lib/python3.11/site-packages (from spacy) (3.1.2)\n",
      "Requirement already satisfied: setuptools in /Users/sanjaydilli/anaconda3/lib/python3.11/site-packages (from spacy) (68.0.0)\n",
      "Requirement already satisfied: packaging>=20.0 in /Users/sanjaydilli/anaconda3/lib/python3.11/site-packages (from spacy) (23.1)\n",
      "Requirement already satisfied: langcodes<4.0.0,>=3.2.0 in /Users/sanjaydilli/anaconda3/lib/python3.11/site-packages (from spacy) (3.4.0)\n",
      "Requirement already satisfied: numpy>=1.19.0 in /Users/sanjaydilli/anaconda3/lib/python3.11/site-packages (from spacy) (1.24.4)\n",
      "Requirement already satisfied: transformers<4.37.0,>=3.4.0 in /Users/sanjaydilli/anaconda3/lib/python3.11/site-packages (from spacy_transformers) (4.32.1)\n",
      "Requirement already satisfied: torch>=1.8.0 in /Users/sanjaydilli/anaconda3/lib/python3.11/site-packages (from spacy_transformers) (2.3.0)\n",
      "Collecting spacy-alignments<1.0.0,>=0.7.2 (from spacy_transformers)\n",
      "  Obtaining dependency information for spacy-alignments<1.0.0,>=0.7.2 from https://files.pythonhosted.org/packages/06/d4/1cf802fb0f68fa48be2f98ca76d2a032809380dc8375e18343d8aefebe7b/spacy_alignments-0.9.1-cp311-cp311-macosx_11_0_arm64.whl.metadata\n",
      "  Downloading spacy_alignments-0.9.1-cp311-cp311-macosx_11_0_arm64.whl.metadata (2.7 kB)\n",
      "Requirement already satisfied: language-data>=1.2 in /Users/sanjaydilli/anaconda3/lib/python3.11/site-packages (from langcodes<4.0.0,>=3.2.0->spacy) (1.2.0)\n",
      "Requirement already satisfied: typing-extensions>=4.2.0 in /Users/sanjaydilli/anaconda3/lib/python3.11/site-packages (from pydantic!=1.8,!=1.8.1,<3.0.0,>=1.7.4->spacy) (4.9.0)\n",
      "Requirement already satisfied: charset-normalizer<4,>=2 in /Users/sanjaydilli/anaconda3/lib/python3.11/site-packages (from requests<3.0.0,>=2.13.0->spacy) (2.0.4)\n",
      "Requirement already satisfied: idna<4,>=2.5 in /Users/sanjaydilli/anaconda3/lib/python3.11/site-packages (from requests<3.0.0,>=2.13.0->spacy) (3.4)\n",
      "Requirement already satisfied: urllib3<3,>=1.21.1 in /Users/sanjaydilli/anaconda3/lib/python3.11/site-packages (from requests<3.0.0,>=2.13.0->spacy) (1.26.18)\n",
      "Requirement already satisfied: certifi>=2017.4.17 in /Users/sanjaydilli/anaconda3/lib/python3.11/site-packages (from requests<3.0.0,>=2.13.0->spacy) (2024.2.2)\n",
      "Requirement already satisfied: blis<0.8.0,>=0.7.8 in /Users/sanjaydilli/anaconda3/lib/python3.11/site-packages (from thinc<8.3.0,>=8.2.2->spacy) (0.7.11)\n",
      "Requirement already satisfied: confection<1.0.0,>=0.0.1 in /Users/sanjaydilli/anaconda3/lib/python3.11/site-packages (from thinc<8.3.0,>=8.2.2->spacy) (0.1.4)\n",
      "Requirement already satisfied: filelock in /Users/sanjaydilli/anaconda3/lib/python3.11/site-packages (from torch>=1.8.0->spacy_transformers) (3.9.0)\n",
      "Requirement already satisfied: sympy in /Users/sanjaydilli/anaconda3/lib/python3.11/site-packages (from torch>=1.8.0->spacy_transformers) (1.11.1)\n",
      "Requirement already satisfied: networkx in /Users/sanjaydilli/anaconda3/lib/python3.11/site-packages (from torch>=1.8.0->spacy_transformers) (3.1)\n",
      "Requirement already satisfied: fsspec in /Users/sanjaydilli/anaconda3/lib/python3.11/site-packages (from torch>=1.8.0->spacy_transformers) (2023.4.0)\n",
      "Requirement already satisfied: huggingface-hub<1.0,>=0.15.1 in /Users/sanjaydilli/anaconda3/lib/python3.11/site-packages (from transformers<4.37.0,>=3.4.0->spacy_transformers) (0.15.1)\n",
      "Requirement already satisfied: pyyaml>=5.1 in /Users/sanjaydilli/anaconda3/lib/python3.11/site-packages (from transformers<4.37.0,>=3.4.0->spacy_transformers) (6.0)\n",
      "Requirement already satisfied: regex!=2019.12.17 in /Users/sanjaydilli/anaconda3/lib/python3.11/site-packages (from transformers<4.37.0,>=3.4.0->spacy_transformers) (2022.7.9)\n",
      "Requirement already satisfied: tokenizers!=0.11.3,<0.14,>=0.11.1 in /Users/sanjaydilli/anaconda3/lib/python3.11/site-packages (from transformers<4.37.0,>=3.4.0->spacy_transformers) (0.13.2)\n",
      "Requirement already satisfied: safetensors>=0.3.1 in /Users/sanjaydilli/anaconda3/lib/python3.11/site-packages (from transformers<4.37.0,>=3.4.0->spacy_transformers) (0.3.2)\n",
      "Requirement already satisfied: click<9.0.0,>=7.1.1 in /Users/sanjaydilli/anaconda3/lib/python3.11/site-packages (from typer<0.10.0,>=0.3.0->spacy) (8.0.4)\n",
      "Requirement already satisfied: cloudpathlib<0.17.0,>=0.7.0 in /Users/sanjaydilli/anaconda3/lib/python3.11/site-packages (from weasel<0.4.0,>=0.1.0->spacy) (0.16.0)\n",
      "Requirement already satisfied: MarkupSafe>=2.0 in /Users/sanjaydilli/anaconda3/lib/python3.11/site-packages (from jinja2->spacy) (2.1.1)\n",
      "Requirement already satisfied: marisa-trie>=0.7.7 in /Users/sanjaydilli/anaconda3/lib/python3.11/site-packages (from language-data>=1.2->langcodes<4.0.0,>=3.2.0->spacy) (1.1.1)\n",
      "Requirement already satisfied: mpmath>=0.19 in /Users/sanjaydilli/anaconda3/lib/python3.11/site-packages (from sympy->torch>=1.8.0->spacy_transformers) (1.3.0)\n",
      "Downloading spacy_transformers-1.3.5-cp311-cp311-macosx_11_0_arm64.whl (174 kB)\n",
      "\u001b[2K   \u001b[90m━━━━━━━━━━━━━━━━━━━━━━━━━━━━━━━━━━━━━━━\u001b[0m \u001b[32m175.0/175.0 kB\u001b[0m \u001b[31m762.2 kB/s\u001b[0m eta \u001b[36m0:00:00\u001b[0ma \u001b[36m0:00:01\u001b[0m\n",
      "\u001b[?25hDownloading spacy_alignments-0.9.1-cp311-cp311-macosx_11_0_arm64.whl (317 kB)\n",
      "\u001b[2K   \u001b[90m━━━━━━━━━━━━━━━━━━━━━━━━━━━━━━━━━━━━━━━━\u001b[0m \u001b[32m317.3/317.3 kB\u001b[0m \u001b[31m1.2 MB/s\u001b[0m eta \u001b[36m0:00:00\u001b[0ma \u001b[36m0:00:01\u001b[0m\n",
      "\u001b[?25hInstalling collected packages: spacy-alignments, spacy_transformers\n",
      "Successfully installed spacy-alignments-0.9.1 spacy_transformers-1.3.5\n",
      "Requirement already satisfied: spacy in /Users/sanjaydilli/anaconda3/lib/python3.11/site-packages (3.7.4)\n",
      "Requirement already satisfied: spacy-legacy<3.1.0,>=3.0.11 in /Users/sanjaydilli/anaconda3/lib/python3.11/site-packages (from spacy) (3.0.12)\n",
      "Requirement already satisfied: spacy-loggers<2.0.0,>=1.0.0 in /Users/sanjaydilli/anaconda3/lib/python3.11/site-packages (from spacy) (1.0.5)\n",
      "Requirement already satisfied: murmurhash<1.1.0,>=0.28.0 in /Users/sanjaydilli/anaconda3/lib/python3.11/site-packages (from spacy) (1.0.10)\n",
      "Requirement already satisfied: cymem<2.1.0,>=2.0.2 in /Users/sanjaydilli/anaconda3/lib/python3.11/site-packages (from spacy) (2.0.8)\n",
      "Requirement already satisfied: preshed<3.1.0,>=3.0.2 in /Users/sanjaydilli/anaconda3/lib/python3.11/site-packages (from spacy) (3.0.9)\n",
      "Requirement already satisfied: thinc<8.3.0,>=8.2.2 in /Users/sanjaydilli/anaconda3/lib/python3.11/site-packages (from spacy) (8.2.3)\n",
      "Requirement already satisfied: wasabi<1.2.0,>=0.9.1 in /Users/sanjaydilli/anaconda3/lib/python3.11/site-packages (from spacy) (1.1.2)\n",
      "Requirement already satisfied: srsly<3.0.0,>=2.4.3 in /Users/sanjaydilli/anaconda3/lib/python3.11/site-packages (from spacy) (2.4.8)\n",
      "Requirement already satisfied: catalogue<2.1.0,>=2.0.6 in /Users/sanjaydilli/anaconda3/lib/python3.11/site-packages (from spacy) (2.0.10)\n",
      "Requirement already satisfied: weasel<0.4.0,>=0.1.0 in /Users/sanjaydilli/anaconda3/lib/python3.11/site-packages (from spacy) (0.3.4)\n"
     ]
    },
    {
     "name": "stdout",
     "output_type": "stream",
     "text": [
      "Requirement already satisfied: typer<0.10.0,>=0.3.0 in /Users/sanjaydilli/anaconda3/lib/python3.11/site-packages (from spacy) (0.9.4)\n",
      "Requirement already satisfied: smart-open<7.0.0,>=5.2.1 in /Users/sanjaydilli/anaconda3/lib/python3.11/site-packages (from spacy) (5.2.1)\n",
      "Requirement already satisfied: tqdm<5.0.0,>=4.38.0 in /Users/sanjaydilli/anaconda3/lib/python3.11/site-packages (from spacy) (4.65.0)\n",
      "Requirement already satisfied: requests<3.0.0,>=2.13.0 in /Users/sanjaydilli/anaconda3/lib/python3.11/site-packages (from spacy) (2.31.0)\n",
      "Requirement already satisfied: pydantic!=1.8,!=1.8.1,<3.0.0,>=1.7.4 in /Users/sanjaydilli/anaconda3/lib/python3.11/site-packages (from spacy) (1.10.8)\n",
      "Requirement already satisfied: jinja2 in /Users/sanjaydilli/anaconda3/lib/python3.11/site-packages (from spacy) (3.1.2)\n",
      "Requirement already satisfied: setuptools in /Users/sanjaydilli/anaconda3/lib/python3.11/site-packages (from spacy) (68.0.0)\n",
      "Requirement already satisfied: packaging>=20.0 in /Users/sanjaydilli/anaconda3/lib/python3.11/site-packages (from spacy) (23.1)\n",
      "Requirement already satisfied: langcodes<4.0.0,>=3.2.0 in /Users/sanjaydilli/anaconda3/lib/python3.11/site-packages (from spacy) (3.4.0)\n",
      "Requirement already satisfied: numpy>=1.19.0 in /Users/sanjaydilli/anaconda3/lib/python3.11/site-packages (from spacy) (1.24.4)\n",
      "Requirement already satisfied: language-data>=1.2 in /Users/sanjaydilli/anaconda3/lib/python3.11/site-packages (from langcodes<4.0.0,>=3.2.0->spacy) (1.2.0)\n",
      "Requirement already satisfied: typing-extensions>=4.2.0 in /Users/sanjaydilli/anaconda3/lib/python3.11/site-packages (from pydantic!=1.8,!=1.8.1,<3.0.0,>=1.7.4->spacy) (4.9.0)\n",
      "Requirement already satisfied: charset-normalizer<4,>=2 in /Users/sanjaydilli/anaconda3/lib/python3.11/site-packages (from requests<3.0.0,>=2.13.0->spacy) (2.0.4)\n",
      "Requirement already satisfied: idna<4,>=2.5 in /Users/sanjaydilli/anaconda3/lib/python3.11/site-packages (from requests<3.0.0,>=2.13.0->spacy) (3.4)\n",
      "Requirement already satisfied: urllib3<3,>=1.21.1 in /Users/sanjaydilli/anaconda3/lib/python3.11/site-packages (from requests<3.0.0,>=2.13.0->spacy) (1.26.18)\n",
      "Requirement already satisfied: certifi>=2017.4.17 in /Users/sanjaydilli/anaconda3/lib/python3.11/site-packages (from requests<3.0.0,>=2.13.0->spacy) (2024.2.2)\n",
      "Requirement already satisfied: blis<0.8.0,>=0.7.8 in /Users/sanjaydilli/anaconda3/lib/python3.11/site-packages (from thinc<8.3.0,>=8.2.2->spacy) (0.7.11)\n",
      "Requirement already satisfied: confection<1.0.0,>=0.0.1 in /Users/sanjaydilli/anaconda3/lib/python3.11/site-packages (from thinc<8.3.0,>=8.2.2->spacy) (0.1.4)\n",
      "Requirement already satisfied: click<9.0.0,>=7.1.1 in /Users/sanjaydilli/anaconda3/lib/python3.11/site-packages (from typer<0.10.0,>=0.3.0->spacy) (8.0.4)\n",
      "Requirement already satisfied: cloudpathlib<0.17.0,>=0.7.0 in /Users/sanjaydilli/anaconda3/lib/python3.11/site-packages (from weasel<0.4.0,>=0.1.0->spacy) (0.16.0)\n",
      "Requirement already satisfied: MarkupSafe>=2.0 in /Users/sanjaydilli/anaconda3/lib/python3.11/site-packages (from jinja2->spacy) (2.1.1)\n",
      "Requirement already satisfied: marisa-trie>=0.7.7 in /Users/sanjaydilli/anaconda3/lib/python3.11/site-packages (from language-data>=1.2->langcodes<4.0.0,>=3.2.0->spacy) (1.1.1)\n"
     ]
    }
   ],
   "source": [
    "!pip install spacy spacy_transformers\n",
    "!pip install -U spacy"
   ]
  },
  {
   "cell_type": "code",
   "execution_count": 3,
   "metadata": {
    "colab": {
     "base_uri": "https://localhost:8080/",
     "height": 1000
    },
    "id": "qmHMlVilasfB",
    "outputId": "6c9b9631-7eab-47f5-ac0b-0d632279b685"
   },
   "outputs": [
    {
     "name": "stdout",
     "output_type": "stream",
     "text": [
      "Collecting fastapi==0.90.0\n",
      "  Obtaining dependency information for fastapi==0.90.0 from https://files.pythonhosted.org/packages/9c/76/a127502eb94aed0ad863ead6a8c9ccdf1e77b7b3a840cdc78ba6fa3c3296/fastapi-0.90.0-py3-none-any.whl.metadata\n",
      "  Downloading fastapi-0.90.0-py3-none-any.whl.metadata (24 kB)\n",
      "Requirement already satisfied: pydantic!=1.7,!=1.7.1,!=1.7.2,!=1.7.3,!=1.8,!=1.8.1,<2.0.0,>=1.6.2 in /Users/sanjaydilli/anaconda3/lib/python3.11/site-packages (from fastapi==0.90.0) (1.10.8)\n",
      "Collecting starlette<=0.23.0,>=0.22.0 (from fastapi==0.90.0)\n",
      "  Obtaining dependency information for starlette<=0.23.0,>=0.22.0 from https://files.pythonhosted.org/packages/0e/5c/4656129cb8214ba30263d5f4858edabb26f24e53429188302002da6654de/starlette-0.23.0-py3-none-any.whl.metadata\n",
      "  Downloading starlette-0.23.0-py3-none-any.whl.metadata (5.8 kB)\n",
      "Requirement already satisfied: typing-extensions>=4.2.0 in /Users/sanjaydilli/anaconda3/lib/python3.11/site-packages (from pydantic!=1.7,!=1.7.1,!=1.7.2,!=1.7.3,!=1.8,!=1.8.1,<2.0.0,>=1.6.2->fastapi==0.90.0) (4.9.0)\n",
      "Requirement already satisfied: anyio<5,>=3.4.0 in /Users/sanjaydilli/anaconda3/lib/python3.11/site-packages (from starlette<=0.23.0,>=0.22.0->fastapi==0.90.0) (3.5.0)\n",
      "Requirement already satisfied: idna>=2.8 in /Users/sanjaydilli/anaconda3/lib/python3.11/site-packages (from anyio<5,>=3.4.0->starlette<=0.23.0,>=0.22.0->fastapi==0.90.0) (3.4)\n",
      "Requirement already satisfied: sniffio>=1.1 in /Users/sanjaydilli/anaconda3/lib/python3.11/site-packages (from anyio<5,>=3.4.0->starlette<=0.23.0,>=0.22.0->fastapi==0.90.0) (1.2.0)\n",
      "Downloading fastapi-0.90.0-py3-none-any.whl (56 kB)\n",
      "\u001b[2K   \u001b[90m━━━━━━━━━━━━━━━━━━━━━━━━━━━━━━━━━━━━━━━━\u001b[0m \u001b[32m56.0/56.0 kB\u001b[0m \u001b[31m750.5 kB/s\u001b[0m eta \u001b[36m0:00:00\u001b[0m\u001b[36m0:00:01\u001b[0m\n",
      "\u001b[?25hDownloading starlette-0.23.0-py3-none-any.whl (64 kB)\n",
      "\u001b[2K   \u001b[90m━━━━━━━━━━━━━━━━━━━━━━━━━━━━━━━━━━━━━━━━\u001b[0m \u001b[32m64.5/64.5 kB\u001b[0m \u001b[31m1.2 MB/s\u001b[0m eta \u001b[36m0:00:00\u001b[0ma \u001b[36m0:00:01\u001b[0m\n",
      "\u001b[?25hInstalling collected packages: starlette, fastapi\n",
      "Successfully installed fastapi-0.90.0 starlette-0.23.0\n"
     ]
    }
   ],
   "source": [
    "\n",
    "!pip install fastapi==0.90.0"
   ]
  },
  {
   "cell_type": "code",
   "execution_count": 5,
   "metadata": {
    "colab": {
     "base_uri": "https://localhost:8080/"
    },
    "id": "IlkCwi2dvQGv",
    "outputId": "5d033650-7998-4c39-acc6-a6ce5dfb2422"
   },
   "outputs": [
    {
     "name": "stdout",
     "output_type": "stream",
     "text": [
      "Collecting PyMuPDF\n",
      "  Obtaining dependency information for PyMuPDF from https://files.pythonhosted.org/packages/d0/8f/9f033131ca9993f1b0acc2ca06a13f4f0a65c3798be167d4234ae83a0b6e/PyMuPDF-1.24.5-cp311-none-macosx_11_0_arm64.whl.metadata\n",
      "  Downloading PyMuPDF-1.24.5-cp311-none-macosx_11_0_arm64.whl.metadata (3.4 kB)\n",
      "Collecting PyMuPDFb==1.24.3 (from PyMuPDF)\n",
      "  Obtaining dependency information for PyMuPDFb==1.24.3 from https://files.pythonhosted.org/packages/7e/4a/27e4e2ce8f5d0ed1d1b2a1f7807f6158db1e8e547a7bf76ac462a800a4b4/PyMuPDFb-1.24.3-py3-none-macosx_11_0_arm64.whl.metadata\n",
      "  Downloading PyMuPDFb-1.24.3-py3-none-macosx_11_0_arm64.whl.metadata (1.4 kB)\n",
      "Downloading PyMuPDF-1.24.5-cp311-none-macosx_11_0_arm64.whl (3.0 MB)\n",
      "\u001b[2K   \u001b[90m━━━━━━━━━━━━━━━━━━━━━━━━━━━━━━━━━━━━━━━━\u001b[0m \u001b[32m3.0/3.0 MB\u001b[0m \u001b[31m1.1 MB/s\u001b[0m eta \u001b[36m0:00:00\u001b[0m00:01\u001b[0m00:01\u001b[0m\n",
      "\u001b[?25hDownloading PyMuPDFb-1.24.3-py3-none-macosx_11_0_arm64.whl (14.9 MB)\n",
      "\u001b[2K   \u001b[90m━━━━━━━━━━━━━━━━━━━━━━━━━━━━━━━━━━━━━━━━\u001b[0m \u001b[32m14.9/14.9 MB\u001b[0m \u001b[31m1.2 MB/s\u001b[0m eta \u001b[36m0:00:00\u001b[0m00:01\u001b[0m00:01\u001b[0m\n",
      "\u001b[?25hInstalling collected packages: PyMuPDFb, PyMuPDF\n",
      "Successfully installed PyMuPDF-1.24.5 PyMuPDFb-1.24.3\n"
     ]
    }
   ],
   "source": [
    "!pip install PyMuPDF"
   ]
  },
  {
   "cell_type": "code",
   "execution_count": 24,
   "metadata": {
    "id": "wAMGR3fhV4UU"
   },
   "outputs": [],
   "source": [
    "import spacy\n",
    "from spacy.tokens import DocBin\n",
    "from tqdm import tqdm\n",
    "import json"
   ]
  },
  {
   "cell_type": "code",
   "execution_count": null,
   "metadata": {
    "colab": {
     "base_uri": "https://localhost:8080/",
     "height": 36
    },
    "id": "OBBTsfIgWL5G",
    "outputId": "fd0c6807-6f43-43e4-d025-57ab9c40c9ad"
   },
   "outputs": [
    {
     "data": {
      "application/vnd.google.colaboratory.intrinsic+json": {
       "type": "string"
      },
      "text/plain": [
       "'3.5.2'"
      ]
     },
     "execution_count": 7,
     "metadata": {},
     "output_type": "execute_result"
    }
   ],
   "source": [
    "spacy.__version__"
   ]
  },
  {
   "cell_type": "code",
   "execution_count": null,
   "metadata": {
    "colab": {
     "base_uri": "https://localhost:8080/"
    },
    "id": "MwkslpruW32e",
    "outputId": "bbdfdd31-fc11-451b-a3f0-faaa6043d1fa"
   },
   "outputs": [
    {
     "name": "stdout",
     "output_type": "stream",
     "text": [
      "Mon Apr 24 12:14:40 2023       \n",
      "+-----------------------------------------------------------------------------+\n",
      "| NVIDIA-SMI 525.85.12    Driver Version: 525.85.12    CUDA Version: 12.0     |\n",
      "|-------------------------------+----------------------+----------------------+\n",
      "| GPU  Name        Persistence-M| Bus-Id        Disp.A | Volatile Uncorr. ECC |\n",
      "| Fan  Temp  Perf  Pwr:Usage/Cap|         Memory-Usage | GPU-Util  Compute M. |\n",
      "|                               |                      |               MIG M. |\n",
      "|===============================+======================+======================|\n",
      "|   0  Tesla T4            Off  | 00000000:00:04.0 Off |                    0 |\n",
      "| N/A   47C    P0    28W /  70W |    347MiB / 15360MiB |      0%      Default |\n",
      "|                               |                      |                  N/A |\n",
      "+-------------------------------+----------------------+----------------------+\n",
      "                                                                               \n",
      "+-----------------------------------------------------------------------------+\n",
      "| Processes:                                                                  |\n",
      "|  GPU   GI   CI        PID   Type   Process name                  GPU Memory |\n",
      "|        ID   ID                                                   Usage      |\n",
      "|=============================================================================|\n",
      "+-----------------------------------------------------------------------------+\n"
     ]
    }
   ],
   "source": [
    "!nvidia-smi"
   ]
  },
  {
   "cell_type": "code",
   "execution_count": 25,
   "metadata": {
    "id": "DhbtH50tXnfQ"
   },
   "outputs": [],
   "source": [
    "cv_data=json.load(open('/Users/sanjaydilli/Downloads/dataset1111.json','r'))"
   ]
  },
  {
   "cell_type": "code",
   "execution_count": 26,
   "metadata": {
    "colab": {
     "base_uri": "https://localhost:8080/"
    },
    "id": "X2kFY_HhZzFe",
    "outputId": "67ecde03-8171-45fe-ea90-1bef01a383d0"
   },
   "outputs": [
    {
     "data": {
      "text/plain": [
       "1014"
      ]
     },
     "execution_count": 26,
     "metadata": {},
     "output_type": "execute_result"
    }
   ],
   "source": [
    "len(cv_data)"
   ]
  },
  {
   "cell_type": "code",
   "execution_count": 27,
   "metadata": {
    "colab": {
     "base_uri": "https://localhost:8080/"
    },
    "id": "1rQy1kaEdh03",
    "outputId": "452838bf-3cd3-421d-a3fa-97f3d72d1f36"
   },
   "outputs": [
    {
     "data": {
      "text/plain": [
       "[\"\\xa0 \\xa0\\nContact\\nwww.linkedin.com/in/\\nsaurabgami977  (LinkedIn)\\nTop Skills\\nJavaScript\\nReact.js\\nMaterial UI\\nCertifications\\nCodecademy Course Saurav G.\\nReact.JS || Frontend Web Developer\\nKathmandu\\nSummary\\nI am doing a bachelor's in Computer Applications at Kathmandu\\nCollege of Technology.\\nHobby: Programming, Networking, Running a business, Travelling in\\nnature, reading books, being productive\\nGet in touch! at saurab@saurabgami.com\\nExperience\\nNo Stress Limited\\nDeveloper & Technical Support Head\\nMarch 2021\\xa0-\\xa0July 2022\\xa0 (1 year 5 months)\\nMaidstone, England, United Kingdom\\nProviding Customer support for shared hosting,\\nSolving Wordpress Issue in Hosting,\\nLearning Crypto development,\\nCollaborating with the team all over the world,\\nHaving good communication,\\nWorking Remotely\\nstart up company\\nJunior ReactJS Developer\\nFebruary 2021\\xa0-\\xa0March 2021\\xa0 (2 months)\\nKathmandu, Bāgmatī, Nepal\\nEspecially working with ReactJS\\nDeveloping UI components, \\nWorking in SASS Product, \\nFrontend Logic,\\nWorking under a senior developer, \\nInteracting with Restful Api's,\\nDeveloping Admin part of websites,\\nUsing Redux and context api as State management Library\\n\\xa0 Page 1 of 2\\xa0 \\xa0\\nEducation\\nKathmandu College of Technology\\nBachelors in computer application,\\xa0Information Technology \\xa0·\\xa0(April 2022\\xa0-\\xa0April\\n2026)\\nAdarsha Janapremi  H.S.S\\nHigh School,\\xa0Computer Science Major - Management Faculty \\xa0·\\xa0(July\\n2018\\xa0-\\xa0January 2021)\\nOrbit English Secondary School\\nS.E.E\\xa0 \\xa0·\\xa0(2005\\xa0-\\xa0June 2018)\\n\\xa0 Page 2 of 2\\n\",\n",
       " {'entities': [[12, 46, 'LINKEDIN LINK'],\n",
       "   [70, 80, 'SKILLS'],\n",
       "   [81, 89, 'SKILLS'],\n",
       "   [90, 101, 'SKILLS'],\n",
       "   [117, 134, 'CERTIFICATION'],\n",
       "   [135, 144, 'NAME'],\n",
       "   [145, 153, 'SKILLS'],\n",
       "   [157, 179, 'SKILLS'],\n",
       "   [180, 189, 'LOCATION'],\n",
       "   [439, 456, 'COMPANIES WORKED AT'],\n",
       "   [457, 491, 'WORKED AS'],\n",
       "   [517, 532, 'YEARS OF EXPERIENCE'],\n",
       "   [773, 789, 'COMPANIES WORKED AT'],\n",
       "   [790, 814, 'WORKED AS'],\n",
       "   [844, 852, 'YEARS OF EXPERIENCE'],\n",
       "   [1166, 1197, 'COLLEGE NAME'],\n",
       "   [1198, 1255, 'DEGREE']]}]"
      ]
     },
     "execution_count": 27,
     "metadata": {},
     "output_type": "execute_result"
    }
   ],
   "source": [
    "cv_data[7]"
   ]
  },
  {
   "cell_type": "code",
   "execution_count": 12,
   "metadata": {
    "colab": {
     "base_uri": "https://localhost:8080/"
    },
    "id": "NOrIiZCbZ8gn",
    "outputId": "e8f5958d-8a5b-492e-d47d-77a214056916"
   },
   "outputs": [
    {
     "ename": "SyntaxError",
     "evalue": "invalid syntax (2970771286.py, line 1)",
     "output_type": "error",
     "traceback": [
      "\u001b[0;36m  Cell \u001b[0;32mIn[12], line 1\u001b[0;36m\u001b[0m\n\u001b[0;31m    python -m spacy train config.cfg --output ./output --paths.train ./train.spacy --paths.dev ./train.spacy\u001b[0m\n\u001b[0m              ^\u001b[0m\n\u001b[0;31mSyntaxError\u001b[0m\u001b[0;31m:\u001b[0m invalid syntax\n"
     ]
    }
   ],
   "source": [
    "python -m spacy train config.cfg --output ./output --paths.train ./train.spacy --paths.dev ./train.spacy "
   ]
  },
  {
   "cell_type": "code",
   "execution_count": 11,
   "metadata": {},
   "outputs": [
    {
     "name": "stdout",
     "output_type": "stream",
     "text": [
      "\u001b[33mUsage: \u001b[0mpython \u001b[1;32m-m\u001b[0m spacy init fill-config [OPTIONS] BASE_PATH [OUTPUT_FILE]\r\n",
      "\u001b[2mTry \u001b[0m\u001b[2;34m'python \u001b[0m\u001b[1;2;34m-m\u001b[0m\u001b[2;34m spacy init fill-config \u001b[0m\u001b[1;2;34m-\u001b[0m\u001b[1;2;34m-help\u001b[0m\u001b[2;34m'\u001b[0m\u001b[2m for help.\u001b[0m\r\n",
      "\u001b[31m╭─\u001b[0m\u001b[31m Error \u001b[0m\u001b[31m─────────────────────────────────────────────────────────────────────\u001b[0m\u001b[31m─╮\u001b[0m\r\n",
      "\u001b[31m│\u001b[0m Invalid value for 'BASE_PATH': File '/Users/sanjaydilli/Downloads/resume/'   \u001b[31m│\u001b[0m\r\n",
      "\u001b[31m│\u001b[0m is a directory.                                                              \u001b[31m│\u001b[0m\r\n",
      "\u001b[31m╰──────────────────────────────────────────────────────────────────────────────╯\u001b[0m\r\n"
     ]
    }
   ],
   "source": [
    "!python -m spacy init fill-config /Users/sanjaydilli/Downloads/resume/"
   ]
  },
  {
   "cell_type": "code",
   "execution_count": 28,
   "metadata": {
    "id": "L_sgxpWmj__9"
   },
   "outputs": [],
   "source": [
    "def get_spacy_doc(file,data):\n",
    "  nlp=spacy.blank('en')\n",
    "  db=DocBin()\n",
    "  for text,annot in tqdm(data):\n",
    "    doc=nlp.make_doc(text)\n",
    "    annot=annot['entities']\n",
    "    ents=[]\n",
    "    entity_indices=[]\n",
    "    for start,end,label in annot:\n",
    "      skip_entity=False\n",
    "      for idx in range(start,end):\n",
    "        if idx in entity_indices:\n",
    "          skip_entity=True\n",
    "          break\n",
    "      if skip_entity==True:\n",
    "        continue\n",
    "      entity_indices=entity_indices+list(range(start,end))\n",
    "      try:\n",
    "        span=doc.char_span(start,end,label=label,alignment_mode='strict')\n",
    "      except:\n",
    "        continue\n",
    "      if span is None:\n",
    "        err_data=str([start,end])+ \"     \" + str(text) + \"\\n\"\n",
    "        file.write(str(err_data.encode('utf-8')))\n",
    "      else:\n",
    "        ents.append(span)\n",
    "    try:\n",
    "      doc.ents=ents\n",
    "      db.add(doc)\n",
    "    except:\n",
    "      pass\n",
    "  return db\n",
    "\n"
   ]
  },
  {
   "cell_type": "code",
   "execution_count": 29,
   "metadata": {
    "id": "XFkBlgOulHvO"
   },
   "outputs": [],
   "source": [
    "from sklearn.model_selection import train_test_split\n",
    "train,test=train_test_split(cv_data,test_size=0.3)"
   ]
  },
  {
   "cell_type": "code",
   "execution_count": 30,
   "metadata": {
    "colab": {
     "base_uri": "https://localhost:8080/"
    },
    "id": "F0zWc1p_lJiP",
    "outputId": "0f4ebea7-2c54-45ec-ab87-78b0ebb1b8b3"
   },
   "outputs": [
    {
     "data": {
      "text/plain": [
       "709"
      ]
     },
     "execution_count": 30,
     "metadata": {},
     "output_type": "execute_result"
    }
   ],
   "source": [
    "len(train)"
   ]
  },
  {
   "cell_type": "code",
   "execution_count": 31,
   "metadata": {
    "colab": {
     "base_uri": "https://localhost:8080/"
    },
    "id": "M5sqVi7xlNqg",
    "outputId": "76a221aa-b8e2-4f9e-f646-ed02e08500f8"
   },
   "outputs": [
    {
     "data": {
      "text/plain": [
       "305"
      ]
     },
     "execution_count": 31,
     "metadata": {},
     "output_type": "execute_result"
    }
   ],
   "source": [
    "len(test)"
   ]
  },
  {
   "cell_type": "code",
   "execution_count": 32,
   "metadata": {
    "colab": {
     "base_uri": "https://localhost:8080/"
    },
    "id": "qs_FHeCWlRlr",
    "outputId": "ca622eb8-140e-4adb-974a-76f997419e80"
   },
   "outputs": [
    {
     "name": "stderr",
     "output_type": "stream",
     "text": [
      "100%|████████████████████████████████████████| 709/709 [00:03<00:00, 217.75it/s]\n",
      "100%|████████████████████████████████████████| 305/305 [00:01<00:00, 233.75it/s]\n"
     ]
    }
   ],
   "source": [
    "\n",
    "file=open('/Users/sanjaydilli/Downloads/resume/train_file.txt','w')\n",
    "\n",
    "db=get_spacy_doc(file,train)\n",
    "db.to_disk('/Users/sanjaydilli/Downloads/resume/train_data.spacy')\n",
    "\n",
    "db=get_spacy_doc(file,test)\n",
    "db.to_disk('/Users/sanjaydilli/Downloads/resume/test_data.spacy')\n",
    "file.close()\n"
   ]
  },
  {
   "cell_type": "code",
   "execution_count": 33,
   "metadata": {},
   "outputs": [
    {
     "name": "stdout",
     "output_type": "stream",
     "text": [
      "/Users/sanjaydilli/anaconda3/lib/python3.11/site-packages/transformers/utils/generic.py:260: UserWarning: torch.utils._pytree._register_pytree_node is deprecated. Please use torch.utils._pytree.register_pytree_node instead.\n",
      "  torch.utils._pytree._register_pytree_node(\n",
      "\u001b[38;5;2m✔ Auto-filled config with all values\u001b[0m\n",
      "\u001b[38;5;2m✔ Saved config\u001b[0m\n",
      "config.cfg\n",
      "You can now add your data and train your pipeline:\n",
      "python -m spacy train config.cfg --paths.train ./train.spacy --paths.dev ./dev.spacy\n"
     ]
    }
   ],
   "source": [
    "!python -m spacy init fill-config base_config.cfg config.cfg"
   ]
  },
  {
   "cell_type": "code",
   "execution_count": 34,
   "metadata": {
    "colab": {
     "base_uri": "https://localhost:8080/"
    },
    "id": "qDQU5VOloxnh",
    "outputId": "0f9ba462-4708-4acb-b64e-70a0bf80f32b"
   },
   "outputs": [
    {
     "name": "stdout",
     "output_type": "stream",
     "text": [
      "\u001b[38;5;4mℹ Saving to output directory: output\u001b[0m\n",
      "\u001b[38;5;4mℹ Using CPU\u001b[0m\n",
      "\u001b[38;5;4mℹ To switch to GPU 0, use the option: --gpu-id 0\u001b[0m\n",
      "\u001b[1m\n",
      "=========================== Initializing pipeline ===========================\u001b[0m\n",
      "/Users/sanjaydilli/anaconda3/lib/python3.11/site-packages/transformers/utils/generic.py:260: UserWarning: torch.utils._pytree._register_pytree_node is deprecated. Please use torch.utils._pytree.register_pytree_node instead.\n",
      "  torch.utils._pytree._register_pytree_node(\n",
      "Traceback (most recent call last):\n",
      "  File \"<frozen runpy>\", line 198, in _run_module_as_main\n",
      "  File \"<frozen runpy>\", line 88, in _run_code\n",
      "  File \"/Users/sanjaydilli/anaconda3/lib/python3.11/site-packages/spacy/__main__.py\", line 4, in <module>\n",
      "    setup_cli()\n",
      "  File \"/Users/sanjaydilli/anaconda3/lib/python3.11/site-packages/spacy/cli/_util.py\", line 87, in setup_cli\n",
      "    command(prog_name=COMMAND)\n",
      "  File \"/Users/sanjaydilli/anaconda3/lib/python3.11/site-packages/click/core.py\", line 1128, in __call__\n",
      "    return self.main(*args, **kwargs)\n",
      "           ^^^^^^^^^^^^^^^^^^^^^^^^^^\n",
      "  File \"/Users/sanjaydilli/anaconda3/lib/python3.11/site-packages/typer/core.py\", line 783, in main\n",
      "    return _main(\n",
      "           ^^^^^^\n",
      "  File \"/Users/sanjaydilli/anaconda3/lib/python3.11/site-packages/typer/core.py\", line 225, in _main\n",
      "    rv = self.invoke(ctx)\n",
      "         ^^^^^^^^^^^^^^^^\n",
      "  File \"/Users/sanjaydilli/anaconda3/lib/python3.11/site-packages/click/core.py\", line 1659, in invoke\n",
      "    return _process_result(sub_ctx.command.invoke(sub_ctx))\n",
      "                           ^^^^^^^^^^^^^^^^^^^^^^^^^^^^^^^\n",
      "  File \"/Users/sanjaydilli/anaconda3/lib/python3.11/site-packages/click/core.py\", line 1395, in invoke\n",
      "    return ctx.invoke(self.callback, **ctx.params)\n",
      "           ^^^^^^^^^^^^^^^^^^^^^^^^^^^^^^^^^^^^^^^\n",
      "  File \"/Users/sanjaydilli/anaconda3/lib/python3.11/site-packages/click/core.py\", line 754, in invoke\n",
      "    return __callback(*args, **kwargs)\n",
      "           ^^^^^^^^^^^^^^^^^^^^^^^^^^^\n",
      "  File \"/Users/sanjaydilli/anaconda3/lib/python3.11/site-packages/typer/main.py\", line 683, in wrapper\n",
      "    return callback(**use_params)  # type: ignore\n",
      "           ^^^^^^^^^^^^^^^^^^^^^^\n",
      "  File \"/Users/sanjaydilli/anaconda3/lib/python3.11/site-packages/spacy/cli/train.py\", line 54, in train_cli\n",
      "    train(config_path, output_path, use_gpu=use_gpu, overrides=overrides)\n",
      "  File \"/Users/sanjaydilli/anaconda3/lib/python3.11/site-packages/spacy/cli/train.py\", line 81, in train\n",
      "    nlp = init_nlp(config, use_gpu=use_gpu)\n",
      "          ^^^^^^^^^^^^^^^^^^^^^^^^^^^^^^^^^\n",
      "  File \"/Users/sanjaydilli/anaconda3/lib/python3.11/site-packages/spacy/training/initialize.py\", line 95, in init_nlp\n",
      "    nlp.initialize(lambda: train_corpus(nlp), sgd=optimizer)\n",
      "  File \"/Users/sanjaydilli/anaconda3/lib/python3.11/site-packages/spacy/language.py\", line 1349, in initialize\n",
      "    proc.initialize(get_examples, nlp=self, **p_settings)\n",
      "  File \"/Users/sanjaydilli/anaconda3/lib/python3.11/site-packages/spacy/pipeline/tok2vec.py\", line 213, in initialize\n",
      "    validate_get_examples(get_examples, \"Tok2Vec.initialize\")\n",
      "  File \"spacy/training/example.pyx\", line 75, in spacy.training.example.validate_get_examples\n",
      "  File \"spacy/training/example.pyx\", line 54, in spacy.training.example.validate_examples\n",
      "  File \"/Users/sanjaydilli/anaconda3/lib/python3.11/site-packages/spacy/training/corpus.py\", line 164, in __call__\n",
      "    for real_eg in examples:\n",
      "  File \"/Users/sanjaydilli/anaconda3/lib/python3.11/site-packages/spacy/training/corpus.py\", line 186, in make_examples\n",
      "    for reference in reference_docs:\n",
      "  File \"/Users/sanjaydilli/anaconda3/lib/python3.11/site-packages/spacy/training/corpus.py\", line 219, in read_docbin\n",
      "    doc_bin = DocBin().from_disk(loc)\n",
      "              ^^^^^^^^^^^^^^^^^^^^^^^\n",
      "  File \"/Users/sanjaydilli/anaconda3/lib/python3.11/site-packages/spacy/tokens/_serialize.py\", line 275, in from_disk\n",
      "    with path.open(\"rb\") as file_:\n",
      "         ^^^^^^^^^^^^^^^\n",
      "  File \"/Users/sanjaydilli/anaconda3/lib/python3.11/pathlib.py\", line 1044, in open\n",
      "    return io.open(self, mode, buffering, encoding, errors, newline)\n",
      "           ^^^^^^^^^^^^^^^^^^^^^^^^^^^^^^^^^^^^^^^^^^^^^^^^^^^^^^^^^\n",
      "FileNotFoundError: [Errno 2] No such file or directory: 'train.spacy'\n"
     ]
    }
   ],
   "source": [
    "!python -m spacy train config.cfg --output ./output --paths.train ./train.spacy --paths.dev ./train.spacy "
   ]
  },
  {
   "cell_type": "code",
   "execution_count": null,
   "metadata": {
    "id": "6dUARH72FiO0"
   },
   "outputs": [],
   "source": [
    "from glob import glob\n",
    "import pandas as pd\n",
    "z=glob(\"/content/drive/MyDrive/resume/trainResumes/*\")\n",
    "print(z)"
   ]
  },
  {
   "cell_type": "code",
   "execution_count": null,
   "metadata": {
    "id": "QAYPSbuJFpUX"
   },
   "outputs": [],
   "source": [
    "import spacy\n",
    "import sys, fitz\n",
    "nlp1 = spacy.load('en_core_web_sm')\n",
    "result=[]\n",
    "for i in z:\n",
    "  doc=fitz.open(i)\n",
    "  res=doc\n",
    "  text=' '\n",
    "  for page in doc:\n",
    "    text=text+str(page.get_text())\n",
    "    text.lower()\n",
    "  def extract_skills(text):\n",
    "    nlp_text = nlp1(text)\n",
    "\n",
    "    # removing stop words and implementing word tokenization\n",
    "    tokens = [token.text for token in nlp_text if not token.is_stop]\n",
    "\n",
    "    skills = [\"nlp\",\"python\",\"natural language processing\",\"machine learning\",\"ml\"]\n",
    "\n",
    "    skillset = []\n",
    "\n",
    "    # check for one-grams (example: python)\n",
    "    for token in tokens:\n",
    "        if token.lower() in skills:\n",
    "            skillset.append(token)\n",
    "\n",
    "    # check for bi-grams and tri-grams (example: machine learning)\n",
    "    for token in nlp_text.noun_chunks:\n",
    "        token = token.text.lower().strip()\n",
    "        if token in skills:\n",
    "            skillset.append(token)\n",
    "\n",
    "    return [i.capitalize() for i in set([i.lower() for i in skillset])]\n",
    "  skillset = extract_skills(text)\n",
    "  for i in range(len(skillset)):\n",
    "    skillset[i]=skillset[i].lower()\n",
    "  skillset.sort()\n",
    "  if \"machine learning\" in skillset:\n",
    "    if \"ml\" in skillset:\n",
    "      skillset.remove(\"ml\")\n",
    "  result.append(skillset)\n",
    "for i in range(len(result)):\n",
    "  print(result[i])"
   ]
  },
  {
   "cell_type": "code",
   "execution_count": null,
   "metadata": {
    "colab": {
     "base_uri": "https://localhost:8080/"
    },
    "id": "IWUSrNwEVwPu",
    "outputId": "c0808b34-1fae-4d64-a77d-9f90da74b371"
   },
   "outputs": [
    {
     "name": "stdout",
     "output_type": "stream",
     "text": [
      "('/content/drive/MyDrive/resume/trainResumes/candidate_049.pdf', ['nlp', 'python'])\n",
      "('/content/drive/MyDrive/resume/trainResumes/candidate_052.pdf', ['nlp', 'python'])\n",
      "('/content/drive/MyDrive/resume/trainResumes/candidate_050.pdf', ['machine learning', 'python'])\n",
      "('/content/drive/MyDrive/resume/trainResumes/candidate_046.pdf', ['machine learning', 'nlp', 'python'])\n",
      "('/content/drive/MyDrive/resume/trainResumes/candidate_043.pdf', ['natural language processing', 'python'])\n",
      "('/content/drive/MyDrive/resume/trainResumes/candidate_037.pdf', ['machine learning', 'nlp', 'python'])\n",
      "('/content/drive/MyDrive/resume/trainResumes/candidate_041.pdf', ['machine learning'])\n",
      "('/content/drive/MyDrive/resume/trainResumes/candidate_047.pdf', ['machine learning', 'python'])\n",
      "('/content/drive/MyDrive/resume/trainResumes/candidate_038.pdf', ['machine learning', 'python'])\n",
      "('/content/drive/MyDrive/resume/trainResumes/candidate_034.pdf', ['python'])\n",
      "('/content/drive/MyDrive/resume/trainResumes/candidate_032.pdf', ['python'])\n",
      "('/content/drive/MyDrive/resume/trainResumes/candidate_030.pdf', ['ml'])\n",
      "('/content/drive/MyDrive/resume/trainResumes/candidate_021.pdf', ['python'])\n",
      "('/content/drive/MyDrive/resume/trainResumes/candidate_025.pdf', ['machine learning', 'nlp', 'python'])\n",
      "('/content/drive/MyDrive/resume/trainResumes/candidate_023.pdf', ['machine learning', 'python'])\n",
      "('/content/drive/MyDrive/resume/trainResumes/candidate_026.pdf', ['machine learning'])\n",
      "('/content/drive/MyDrive/resume/trainResumes/candidate_024.pdf', ['machine learning'])\n",
      "('/content/drive/MyDrive/resume/trainResumes/candidate_022.pdf', ['python'])\n",
      "('/content/drive/MyDrive/resume/trainResumes/candidate_020.pdf', ['nlp'])\n",
      "('/content/drive/MyDrive/resume/trainResumes/candidate_027.pdf', ['python'])\n",
      "('/content/drive/MyDrive/resume/trainResumes/candidate_010.pdf', ['python'])\n",
      "('/content/drive/MyDrive/resume/trainResumes/candidate_011.pdf', ['machine learning', 'python'])\n",
      "('/content/drive/MyDrive/resume/trainResumes/candidate_007.pdf', ['machine learning', 'python'])\n",
      "('/content/drive/MyDrive/resume/trainResumes/candidate_009.pdf', ['machine learning', 'natural language processing', 'nlp', 'python'])\n",
      "('/content/drive/MyDrive/resume/trainResumes/candidate_006.pdf', [])\n",
      "('/content/drive/MyDrive/resume/trainResumes/candidate_008.pdf', ['machine learning'])\n",
      "('/content/drive/MyDrive/resume/trainResumes/candidate_003.pdf', ['machine learning', 'python'])\n",
      "('/content/drive/MyDrive/resume/trainResumes/candidate_015.pdf', [])\n",
      "('/content/drive/MyDrive/resume/trainResumes/candidate_013.pdf', ['python'])\n",
      "('/content/drive/MyDrive/resume/trainResumes/candidate_012.pdf', ['nlp', 'python'])\n",
      "('/content/drive/MyDrive/resume/trainResumes/candidate_002.pdf', ['nlp', 'python'])\n",
      "('/content/drive/MyDrive/resume/trainResumes/candidate_000.pdf', ['machine learning', 'python'])\n",
      "('/content/drive/MyDrive/resume/trainResumes/candidate_001.pdf', ['machine learning', 'natural language processing', 'nlp', 'python'])\n",
      "('/content/drive/MyDrive/resume/trainResumes/candidate_093.pdf', ['ml', 'nlp', 'python'])\n",
      "('/content/drive/MyDrive/resume/trainResumes/candidate_065.pdf', ['machine learning', 'python'])\n",
      "('/content/drive/MyDrive/resume/trainResumes/candidate_129.pdf', ['machine learning', 'natural language processing', 'python'])\n",
      "('/content/drive/MyDrive/resume/trainResumes/candidate_097.pdf', [])\n",
      "('/content/drive/MyDrive/resume/trainResumes/candidate_074.pdf', ['ml', 'python'])\n",
      "('/content/drive/MyDrive/resume/trainResumes/candidate_121.pdf', ['nlp', 'python'])\n",
      "('/content/drive/MyDrive/resume/trainResumes/candidate_113.pdf', ['machine learning', 'python'])\n",
      "('/content/drive/MyDrive/resume/trainResumes/candidate_127.pdf', ['python'])\n",
      "('/content/drive/MyDrive/resume/trainResumes/candidate_067.pdf', ['machine learning', 'natural language processing', 'python'])\n",
      "('/content/drive/MyDrive/resume/trainResumes/candidate_111.pdf', ['machine learning', 'python'])\n",
      "('/content/drive/MyDrive/resume/trainResumes/candidate_055.pdf', ['machine learning', 'natural language processing', 'python'])\n",
      "('/content/drive/MyDrive/resume/trainResumes/candidate_068.pdf', ['machine learning', 'python'])\n",
      "('/content/drive/MyDrive/resume/trainResumes/candidate_109.pdf', ['machine learning', 'python'])\n",
      "('/content/drive/MyDrive/resume/trainResumes/candidate_081.pdf', ['python'])\n",
      "('/content/drive/MyDrive/resume/trainResumes/candidate_105.pdf', ['machine learning', 'python'])\n",
      "('/content/drive/MyDrive/resume/trainResumes/candidate_064.pdf', ['ml', 'nlp', 'python'])\n",
      "('/content/drive/MyDrive/resume/trainResumes/candidate_116.pdf', ['machine learning', 'python'])\n",
      "('/content/drive/MyDrive/resume/trainResumes/candidate_110.pdf', ['natural language processing', 'python'])\n",
      "('/content/drive/MyDrive/resume/trainResumes/candidate_082.pdf', ['machine learning', 'python'])\n",
      "('/content/drive/MyDrive/resume/trainResumes/candidate_123.pdf', ['machine learning', 'natural language processing'])\n",
      "('/content/drive/MyDrive/resume/trainResumes/candidate_062.pdf', ['machine learning', 'python'])\n",
      "('/content/drive/MyDrive/resume/trainResumes/candidate_124.pdf', ['machine learning', 'python'])\n",
      "('/content/drive/MyDrive/resume/trainResumes/candidate_100.pdf', ['natural language processing', 'python'])\n",
      "('/content/drive/MyDrive/resume/trainResumes/candidate_070.pdf', ['machine learning', 'python'])\n",
      "('/content/drive/MyDrive/resume/trainResumes/candidate_101.pdf', ['machine learning', 'python'])\n",
      "('/content/drive/MyDrive/resume/trainResumes/candidate_106.pdf', ['nlp'])\n",
      "('/content/drive/MyDrive/resume/trainResumes/candidate_083.pdf', ['machine learning', 'python'])\n",
      "('/content/drive/MyDrive/resume/trainResumes/candidate_089.pdf', ['machine learning', 'natural language processing', 'nlp', 'python'])\n",
      "('/content/drive/MyDrive/resume/trainResumes/candidate_063.pdf', ['machine learning', 'nlp', 'python'])\n",
      "('/content/drive/MyDrive/resume/trainResumes/candidate_087.pdf', ['natural language processing', 'nlp', 'python'])\n",
      "('/content/drive/MyDrive/resume/trainResumes/candidate_076.pdf', ['machine learning', 'python'])\n",
      "('/content/drive/MyDrive/resume/trainResumes/candidate_086.pdf', ['python'])\n",
      "('/content/drive/MyDrive/resume/trainResumes/candidate_060.pdf', ['ml', 'nlp', 'python'])\n",
      "('/content/drive/MyDrive/resume/trainResumes/candidate_130.pdf', ['machine learning', 'python'])\n",
      "('/content/drive/MyDrive/resume/trainResumes/candidate_115.pdf', ['machine learning', 'natural language processing', 'python'])\n",
      "('/content/drive/MyDrive/resume/trainResumes/candidate_096.pdf', ['machine learning', 'nlp', 'python'])\n",
      "('/content/drive/MyDrive/resume/trainResumes/candidate_080.pdf', ['machine learning', 'nlp', 'python'])\n",
      "('/content/drive/MyDrive/resume/trainResumes/candidate_079.pdf', ['machine learning', 'python'])\n",
      "('/content/drive/MyDrive/resume/trainResumes/candidate_088.pdf', [])\n",
      "('/content/drive/MyDrive/resume/trainResumes/candidate_072.pdf', ['machine learning'])\n",
      "('/content/drive/MyDrive/resume/trainResumes/candidate_104.pdf', ['python'])\n",
      "('/content/drive/MyDrive/resume/trainResumes/candidate_061.pdf', ['machine learning'])\n",
      "('/content/drive/MyDrive/resume/trainResumes/candidate_071.pdf', ['machine learning', 'python'])\n",
      "('/content/drive/MyDrive/resume/trainResumes/candidate_057.pdf', ['machine learning', 'nlp', 'python'])\n",
      "('/content/drive/MyDrive/resume/trainResumes/candidate_149.pdf', [])\n",
      "('/content/drive/MyDrive/resume/trainResumes/candidate_140.pdf', ['machine learning', 'python'])\n",
      "('/content/drive/MyDrive/resume/trainResumes/candidate_142.pdf', ['machine learning', 'python'])\n",
      "('/content/drive/MyDrive/resume/trainResumes/candidate_144.pdf', ['python'])\n",
      "('/content/drive/MyDrive/resume/trainResumes/candidate_134.pdf', ['machine learning', 'nlp', 'python'])\n",
      "('/content/drive/MyDrive/resume/trainResumes/candidate_145.pdf', ['machine learning', 'python'])\n",
      "('/content/drive/MyDrive/resume/trainResumes/candidate_147.pdf', ['python'])\n",
      "('/content/drive/MyDrive/resume/trainResumes/candidate_133.pdf', ['machine learning', 'nlp', 'python'])\n",
      "('/content/drive/MyDrive/resume/trainResumes/candidate_143.pdf', ['machine learning', 'nlp', 'python'])\n",
      "('/content/drive/MyDrive/resume/trainResumes/candidate_137.pdf', ['machine learning', 'natural language processing', 'python'])\n",
      "('/content/drive/MyDrive/resume/trainResumes/candidate_136.pdf', ['machine learning', 'python'])\n",
      "('/content/drive/MyDrive/resume/trainResumes/candidate_138.pdf', ['machine learning', 'natural language processing', 'python'])\n",
      "('/content/drive/MyDrive/resume/trainResumes/candidate_148.pdf', ['machine learning', 'python'])\n"
     ]
    }
   ],
   "source": [
    "for i in zip(z,result):\n",
    "  print(i)"
   ]
  },
  {
   "cell_type": "code",
   "execution_count": null,
   "metadata": {
    "colab": {
     "base_uri": "https://localhost:8080/"
    },
    "id": "lK1ErWTFxSQ6",
    "outputId": "203a0281-3978-4892-a3a1-f6c773dd23bb"
   },
   "outputs": [
    {
     "name": "stdout",
     "output_type": "stream",
     "text": [
      "selected resumes:\n",
      "/content/drive/MyDrive/resume/trainResumes/candidate_046.pdf\n",
      "/content/drive/MyDrive/resume/trainResumes/candidate_037.pdf\n",
      "/content/drive/MyDrive/resume/trainResumes/candidate_025.pdf\n",
      "/content/drive/MyDrive/resume/trainResumes/candidate_129.pdf\n",
      "/content/drive/MyDrive/resume/trainResumes/candidate_067.pdf\n",
      "/content/drive/MyDrive/resume/trainResumes/candidate_055.pdf\n",
      "/content/drive/MyDrive/resume/trainResumes/candidate_063.pdf\n",
      "/content/drive/MyDrive/resume/trainResumes/candidate_115.pdf\n",
      "/content/drive/MyDrive/resume/trainResumes/candidate_096.pdf\n",
      "/content/drive/MyDrive/resume/trainResumes/candidate_080.pdf\n",
      "/content/drive/MyDrive/resume/trainResumes/candidate_057.pdf\n",
      "/content/drive/MyDrive/resume/trainResumes/candidate_134.pdf\n",
      "/content/drive/MyDrive/resume/trainResumes/candidate_133.pdf\n",
      "/content/drive/MyDrive/resume/trainResumes/candidate_143.pdf\n",
      "/content/drive/MyDrive/resume/trainResumes/candidate_137.pdf\n",
      "/content/drive/MyDrive/resume/trainResumes/candidate_138.pdf\n"
     ]
    }
   ],
   "source": [
    "skills = [\"machine learning\",\"nlp\",\"python\"]\n",
    "skills1 = [\"machine learning\",\"natural language processing\",\"python\"]\n",
    "selected=[]\n",
    "rejected=[]\n",
    "for i in range(len(result)):\n",
    "  if result[i] == skills or result[i] == skills1:\n",
    "    selected.append(z[i])\n",
    "  else:\n",
    "    rejected.append(z[i])\n",
    "print('selected resumes:')\n",
    "for i in selected:\n",
    "  print(i)\n",
    "\n"
   ]
  },
  {
   "cell_type": "code",
   "execution_count": null,
   "metadata": {
    "id": "MFGWq5i1tlPq"
   },
   "outputs": [],
   "source": [
    "nlp=spacy.load('/content/drive/MyDrive/resume/model/output/model-best')"
   ]
  },
  {
   "cell_type": "code",
   "execution_count": null,
   "metadata": {
    "colab": {
     "base_uri": "https://localhost:8080/"
    },
    "id": "1BXEfbqx3-i8",
    "outputId": "5f7f630f-8ba9-493c-ea04-0f5a8fcdf5d6"
   },
   "outputs": [
    {
     "name": "stdout",
     "output_type": "stream",
     "text": [
      "IRRM International ->>>>>>>> COMPANIES WORKED AT\n",
      "Junior Analyst Expert ->>>>>>>> WORKED AS\n",
      "B.Tech(Computer Science) SRM IT, Chennal 2021 ->>>>>>>> DEGREE\n",
      "####################################################################################################\n",
      "CRISON GLOBAL SERVICE ->>>>>>>> COMPANIES WORKED AT\n",
      "BRAXTON PARKER ->>>>>>>> COMPANIES WORKED AT\n",
      "####################################################################################################\n",
      "MASON MARKINOV ->>>>>>>> NAME\n",
      "TML Infotech ->>>>>>>> COMPANIES WORKED AT\n",
      "Junior Machine Learning And Deep\n",
      "Learning Engineer ->>>>>>>> WORKED AS\n",
      "EDUCATION ->>>>>>>> COLLEGE NAME\n",
      "####################################################################################################\n",
      "HOWARD GOODMAN ->>>>>>>> NAME\n",
      "NLP Developer Intern ->>>>>>>> WORKED AS\n",
      "Zynta Labs ->>>>>>>> COMPANIES WORKED AT\n",
      "EDUCATIONAL HISTORY ->>>>>>>> WORKED AS\n",
      "B.TECH(Electrical) ->>>>>>>> DEGREE\n",
      "####################################################################################################\n",
      "STACEY BELARNY ->>>>>>>> NAME\n",
      "EXPERIENCE\n",
      " Invictus Qualis ->>>>>>>> COMPANIES WORKED AT\n",
      "Big Data Analysis and Prediction ->>>>>>>> WORKED AS\n",
      "EDUCATION ->>>>>>>> COMPANIES WORKED AT\n",
      "B.Tech JIoT Belemundi ->>>>>>>> WORKED AS\n",
      "####################################################################################################\n",
      "NAOMI JACKSON ->>>>>>>> COMPANIES WORKED AT\n",
      "JUNIOR SDE-MACHINE LEARNING\n",
      "WORK EXPERIENCE ->>>>>>>> WORKED AS\n",
      "HCL ->>>>>>>> COMPANIES WORKED AT\n",
      "Junior SDE(Data and Machine Learning) ->>>>>>>> WORKED AS\n",
      "Software Developer ->>>>>>>> DEGREE\n",
      "####################################################################################################\n",
      "Titli Foundation ->>>>>>>> COMPANIES WORKED AT\n",
      "System Developer ->>>>>>>> WORKED AS\n",
      "EDUCATION ->>>>>>>> UNIVERSITY\n",
      "AVERY JACOBS ->>>>>>>> NAME\n",
      "####################################################################################################\n",
      "EDUCATION ->>>>>>>> COLLEGE NAME\n",
      "B.Tech (Computers) from National Institute of Technology (NIT),\n",
      "Hamirpur in 2020 ->>>>>>>> DEGREE\n",
      "XcelSior ->>>>>>>> COMPANIES WORKED AT\n",
      "Face Recognition system ->>>>>>>> WORKED AS\n",
      "####################################################################################################\n",
      "JP INFORMATICS ->>>>>>>> COMPANIES WORKED AT\n",
      "INTERN ->>>>>>>> WORKED AS\n",
      "JONAS NIELSEN ->>>>>>>> COMPANIES WORKED AT\n",
      "F R E S H E R ->>>>>>>> UNIVERSITY\n",
      "####################################################################################################\n",
      "Brane Enterprises Pvt LTD ->>>>>>>> COMPANIES WORKED AT\n",
      "Computer Vision Engineer ->>>>>>>> WORKED AS\n",
      "EDUCATION ->>>>>>>> COLLEGE NAME\n",
      "####################################################################################################\n",
      "NOLAN CLARK ->>>>>>>> NAME\n",
      "MACHINE LEARNING GRADUATE\n",
      "RESEARCH ASSISTANT\n",
      "PROFESSIONAL PROFILE ->>>>>>>> LINKEDIN LINK\n",
      "Research Assistant ->>>>>>>> WORKED AS\n",
      "EDUCATIONAL HISTORY ->>>>>>>> UNIVERSITY\n",
      "BCA (Computers) from Sikkim university in 2019 ->>>>>>>> DEGREE\n",
      "MCA (Computers) ->>>>>>>> DEGREE\n",
      "ACHIEVEMENTS AND EXTRA\n",
      "CURRICULARS\n",
      "Entrepreneurship Development Program\n",
      "on Data Science.\n",
      "PROJECTS\n",
      "A web-based Application to determine\n",
      "soil moisture using attention mechanism.\n",
      "Medical Identification of Cellular\n",
      "Disconfiguration.\n",
      " ->>>>>>>> UNIVERSITY\n",
      "####################################################################################################\n",
      "ADRIAN LOPEZ ->>>>>>>> NAME\n",
      "SOFTWARE DEVELOPER & ANALYST ML\n",
      "WORK EXPERIENCE\n",
      " ->>>>>>>> WORKED AS\n",
      "AT&C Solutions ->>>>>>>> COMPANIES WORKED AT\n",
      "Software Developer ML ->>>>>>>> WORKED AS\n",
      "B.Tech(IT) PES University, Bangalore, 2019 ->>>>>>>> DEGREE\n",
      "EXTRA-CURRICULARS ->>>>>>>> COMPANIES WORKED AT\n",
      "Applied Machine Learning Course ->>>>>>>> CERTIFICATION\n",
      "####################################################################################################\n",
      "Machine Learning Engineer ->>>>>>>> WORKED AS\n",
      "B.Sc (Computer Science Engineering) ->>>>>>>> DEGREE\n",
      "ALEXIS MATHEWS ->>>>>>>> NAME\n",
      "####################################################################################################\n",
      "WYATT COOPER ->>>>>>>> NAME\n",
      "DATA STRATEGY AND DELIVERY ->>>>>>>> SKILLS\n",
      "Data Strategy and Delivery Specialist ->>>>>>>> WORKED AS\n",
      "Deloitte Consulting India Private Limited ->>>>>>>> COMPANIES WORKED AT\n",
      "EDUCATIONAL HISTORY ->>>>>>>> COLLEGE NAME\n",
      "B.Tech JKG College ->>>>>>>> COLLEGE NAME\n",
      "MSc(Computational Economics) BSI ->>>>>>>> DEGREE\n",
      "Lucknow University ->>>>>>>> UNIVERSITY\n",
      "####################################################################################################\n",
      "GABRIELLA JOHNSON ->>>>>>>> NAME\n",
      "AMZ Loans and Mortgages ->>>>>>>> COMPANIES WORKED AT\n",
      "Analyst ->>>>>>>> WORKED AS\n",
      "ACADEMIC PROFILE ->>>>>>>> COMPANIES WORKED AT\n",
      "B.Tech from Nagpur University in 2019 ->>>>>>>> DEGREE\n",
      "EXECUTIVE\n",
      "SUMMARY ->>>>>>>> COLLEGE NAME\n",
      "EXTRA-CURRICULARS ->>>>>>>> CERTIFICATION\n",
      "Advanced Data Analytics with\n",
      "Python and R ->>>>>>>> CERTIFICATION\n",
      "####################################################################################################\n",
      "AUDREY COLESON ->>>>>>>> NAME\n",
      "B.Tech, Cummins College of Engineering,  Pune in 2018 ->>>>>>>> DEGREE\n",
      "Junior Engineer Award L&T ->>>>>>>> AWARDS\n",
      "Best Solution Provided L&T\n",
      "PROJECTS\n",
      "Access and different bands of Radio\n",
      "frequency carrying different message\n",
      "bitrates. ->>>>>>>> AWARDS\n",
      "Tata Sons ->>>>>>>> COMPANIES WORKED AT\n",
      "Analyst ->>>>>>>> WORKED AS\n",
      "####################################################################################################\n",
      "HOME CREDIT INDIA FINANCE ->>>>>>>> COMPANIES WORKED AT\n",
      "FINANCE TECHNOLOGY EXPERT NOV 2019 TO TILL DATE ->>>>>>>> WORKED AS\n",
      "LAYLA MOORE ->>>>>>>> COMPANIES WORKED AT\n",
      "####################################################################################################\n",
      "Volvo India Pvt. Ltd. ->>>>>>>> COMPANIES WORKED AT\n",
      "Data Analyst May 2019 to Till Date ->>>>>>>> WORKED AS\n",
      "B.Tech from Gujarat University in 2017 ->>>>>>>> UNIVERSITY\n",
      "M.Tech from Vellore Institute of Technology ->>>>>>>> DEGREE\n",
      "####################################################################################################\n",
      "AMELIA BAKER ->>>>>>>> NAME\n",
      "Tech Mahindra ->>>>>>>> COMPANIES WORKED AT\n",
      "Associate System Engineer Intern ->>>>>>>> WORKED AS\n",
      "EDUCATION ->>>>>>>> COLLEGE NAME\n",
      "B.Tech(ECE) ->>>>>>>> DEGREE\n",
      "####################################################################################################\n",
      "Kinsgley Co. ->>>>>>>> COMPANIES WORKED AT\n",
      "Automation Engineer ->>>>>>>> WORKED AS\n",
      "CIS IT Services ->>>>>>>> COMPANIES WORKED AT\n",
      "Data Engineer ->>>>>>>> WORKED AS\n",
      "EDUCATION ->>>>>>>> COLLEGE NAME\n",
      "B.Sc (Statistics) ->>>>>>>> DEGREE\n",
      "D A T A   ->>>>>>>> UNIVERSITY\n",
      "####################################################################################################\n",
      "TATA CONSULTANCY SERVICES LTD ->>>>>>>> COMPANIES WORKED AT\n",
      "MACHINE LEARNING ENGINEER ->>>>>>>> WORKED AS\n",
      "ABIGAIL FERNANDES\n",
      "S K I L L S\n",
      "Machine Learning Engineer, Data\n",
      "Processing, Data Modelling, Data\n",
      "Structures, Deep Learning,\n",
      "Application Development, Python,\n",
      "Django, Flask, Kubernetes, C++ \n",
      "P R O J E C T S\n",
      "Conway's Game of Life using\n",
      "Symmetrical Algorithm\n",
      "Position and Location\n",
      "Determination for Transportation\n",
      "System.\n",
      "E X P E R I E N C E\n",
      "E D U C A T I O N\n",
      "B.TECH(COMPUTERS) FROM SHRI GURU GOBIND SINGHJI COLLEGE\n",
      "OF ENGINEERING AND TECHNOLOGY, NANED IN 2019\n",
      "A C T I V I T I E S  A N D  A W A R D S\n",
      "RUNNER-UP, SOLINOVATE, BITS GOA\n",
      "NANYANG TECHNOLOGICAL UNIVERSITY, RESEARCH ASSISTANT SEP\n",
      "2018\n",
      "Developed a positioning system based on coarse-grained location\n",
      "data for Intelligent Transportation System.\n",
      "A S S O C I A T E  M A C H I N E  L E A R N I N G  E N G I N E E R\n",
      " ->>>>>>>> COMPANIES WORKED AT\n",
      "####################################################################################################\n",
      "Intern Trainee ->>>>>>>> WORKED AS\n",
      "ACADEMIC PROFILE ->>>>>>>> COMPANIES WORKED AT\n",
      "B.Tech(Civil) Garodia Institute of Technosciences,\n",
      "2020 ->>>>>>>> DEGREE\n",
      "PERSONAL\n",
      "SKILLS ->>>>>>>> COMPANIES WORKED AT\n",
      "####################################################################################################\n",
      "ISABELLA REED ->>>>>>>> NAME\n",
      "EDUCATION ->>>>>>>> COLLEGE NAME\n",
      "B.Tech(Computer Science) RCC IT ->>>>>>>> DEGREE\n",
      "IRRM International ->>>>>>>> COMPANIES WORKED AT\n",
      "Junior Analyst Expert ->>>>>>>> WORKED AS\n",
      "####################################################################################################\n",
      "CutThroat Media ->>>>>>>> COMPANIES WORKED AT\n",
      "NLP analyst for user comments ->>>>>>>> WORKED AS\n",
      "ETHAN CONNERS ->>>>>>>> COMPANIES WORKED AT\n",
      "DataCamp NLP Degree Coursework ->>>>>>>> CERTIFICATION\n",
      "####################################################################################################\n",
      "JENNIFER ARMSTRONG ->>>>>>>> NAME\n",
      "EDUCATION ->>>>>>>> COMPANIES WORKED AT\n",
      "B.Tech Computer Science from IIT\n",
      "Guwahati, 2021 ->>>>>>>> DEGREE\n",
      "####################################################################################################\n",
      "WTPL ->>>>>>>> COMPANIES WORKED AT\n",
      "Associate Project Engineer ->>>>>>>> WORKED AS\n",
      "B.Tech(Computers) from Goverment College Of Engineering And\n",
      "Ceramic Technology in 2020 ->>>>>>>> DEGREE\n",
      "####################################################################################################\n",
      "SOFTWARE ENGINEER -MACHINE LEARNING\n",
      "ACS Solutions Pvt. Ltd. May 2018 to Ongoing\n",
      "Worked on the communication of edge devices with requests to\n",
      "MQTT and Cloud data allocation & estimation. Involved in\n",
      "architectural design of creating a pipeline to facilitate the\n",
      "communication between React web app and the Edge devices.\n",
      "RODNEY MICHAELS ->>>>>>>> WORKED AS\n",
      "####################################################################################################\n",
      "BBA Injunction Award for Best Performer\n",
      "Projects\n",
      "Intelligent Liaison Methods for Future\n",
      "Business and Production Ready\n",
      "Environments.\n",
      "Skills\n",
      "Business analyst, Data modeling, Business\n",
      "intelligence, ERP implementation, html,\n",
      "Requirement Gathering, Power Bi, Project\n",
      "Management.\n",
      "Work Experience\n",
      " ->>>>>>>> AWARDS\n",
      "JVV IT Solutions ->>>>>>>> COMPANIES WORKED AT\n",
      "Business Analyst ->>>>>>>> WORKED AS\n",
      "BBA (Management) from SP University in 2018 ->>>>>>>> DEGREE\n",
      "MBA(Information Technology) ->>>>>>>> DEGREE\n",
      "####################################################################################################\n",
      "ANTHONY GUAP ->>>>>>>> NAME\n",
      "ViZon LTD ->>>>>>>> COMPANIES WORKED AT\n",
      "Junior Intern ->>>>>>>> WORKED AS\n",
      "EDUCATION ->>>>>>>> COLLEGE NAME\n",
      "B.Tech Computer Science &\n",
      "Engineering ->>>>>>>> DEGREE\n",
      "####################################################################################################\n",
      "JIMMY GARTNER ->>>>>>>> NAME\n",
      "Associate Data Scientist ->>>>>>>> WORKED AS\n",
      "E Express ->>>>>>>> COMPANIES WORKED AT\n",
      "EDUCATIONAL HISTORY ->>>>>>>> COLLEGE NAME\n",
      "B.Sc (Statistics) ->>>>>>>> DEGREE\n",
      "Lucknow University ->>>>>>>> UNIVERSITY\n",
      "####################################################################################################\n",
      "MASON QUADRADO\n",
      "ASSOCIATE ANALYST ->>>>>>>> UNIVERSITY\n",
      "Google Cloud Certified\n",
      "PROJECT\n",
      "OTHER QUALIFICATION ->>>>>>>> CERTIFICATION\n",
      "####################################################################################################\n",
      "JACOB SMITH ->>>>>>>> NAME\n",
      "B. Tech, ECE VIT-AP University ->>>>>>>> DEGREE\n",
      "Deep Learning Masters ->>>>>>>> SKILLS\n",
      "Machine Learning ->>>>>>>> SKILLS\n",
      "WORK BACKGROUND ->>>>>>>> COMPANIES WORKED AT\n",
      "Experts Hub ->>>>>>>> COMPANIES WORKED AT\n",
      "Intern ->>>>>>>> WORKED AS\n",
      "####################################################################################################\n",
      "KPMMC Inc. ->>>>>>>> COMPANIES WORKED AT\n",
      "Machine Learning Junior Developer ->>>>>>>> WORKED AS\n",
      "BSc(CA) ->>>>>>>> DEGREE\n",
      "MSc(CA) ->>>>>>>> DEGREE\n",
      "####################################################################################################\n",
      "United Health Group ->>>>>>>> COMPANIES WORKED AT\n",
      "Data Scientist ->>>>>>>> WORKED AS\n",
      "ACADEMIC PROFILE ->>>>>>>> COMPANIES WORKED AT\n",
      "B.E. (Data Engineering) from Rajiv Gandhi\n",
      "Proudyogiki Vishwavidyalaya (RGPV), Bhopal in\n",
      "2019 ->>>>>>>> DEGREE\n",
      "PERSONAL\n",
      "SKILLS ->>>>>>>> COMPANIES WORKED AT\n",
      "Data Scientist ->>>>>>>> WORKED AS\n",
      "EXTRA-CURRICULARS ->>>>>>>> COMPANIES WORKED AT\n",
      "NLP Developer ->>>>>>>> WORKED AS\n",
      "####################################################################################################\n",
      "EMMA MARSHALL ->>>>>>>> NAME\n",
      "GRADUATE SOFTWARE ENGINEER\n",
      "WORK EXPERIENCE ->>>>>>>> SKILLS\n",
      "Cognibot ->>>>>>>> COMPANIES WORKED AT\n",
      "Intern ->>>>>>>> WORKED AS\n",
      "ACADEMIC PROFILE ->>>>>>>> COMPANIES WORKED AT\n",
      "####################################################################################################\n",
      "NICHOLAS MENDES ->>>>>>>> NAME\n",
      "Trainee Internship ->>>>>>>> WORKED AS\n",
      "####################################################################################################\n",
      "BIB CONSULTANCY ->>>>>>>> COMPANIES WORKED AT\n",
      "BUSINESS ANALYST ->>>>>>>> WORKED AS\n",
      "BAILEY MIRL ->>>>>>>> COMPANIES WORKED AT\n",
      "####################################################################################################\n",
      "HAYLEE ROGERS ->>>>>>>> NAME\n",
      "Software Developer (AI/ML), Mar 2019 to Till Date ->>>>>>>> WORKED AS\n",
      "DigiScape Tech Solutions Ltd. ->>>>>>>> COMPANIES WORKED AT\n",
      "EDUCATIONAL HISTORY ->>>>>>>> WORKED AS\n",
      "B.Tech/B.E. (Electronics and communication) from\n",
      "Nagpur University ->>>>>>>> DEGREE\n",
      "####################################################################################################\n",
      "JADEN WILLOW\n",
      "FRESHER ->>>>>>>> NAME\n",
      "JumpStart ->>>>>>>> COMPANIES WORKED AT\n",
      "Intern Trainee ->>>>>>>> WORKED AS\n",
      "B.Tech Darjeeling Engineering College in 2018.\n",
      "M.Tech from Calcutta university in 2020.\n",
      "EXECUTIVE\n",
      "SUMMARY\n",
      "Strong engineering professional\n",
      "with a Master's degree in Big data\n",
      "analytics.\n",
      "PERSONAL\n",
      "SKILLS\n",
      "Machine learning, Deep learning,\n",
      "Python, NLP, Computer vision,\n",
      "Image processing, SQL, Data\n",
      "analysis, Big Data, Spark, Apache\n",
      "hive, Apache pig, Tensorflow,\n",
      "Sklearn, Data visualization, Data\n",
      "science.\n",
      "PROJECTS\n",
      "Application to classify the diseased\n",
      "Cotton leaf. \n",
      "Air Quality index Information\n",
      "extraction from legal data.\n",
      "EXTRA-CURRICULARS\n",
      "Natural language processing with\n",
      "Python Spark and Python for Big\n",
      "Data with Pyspark.\n",
      " ->>>>>>>> DEGREE\n",
      "####################################################################################################\n",
      "BB House of Developers ->>>>>>>> COMPANIES WORKED AT\n",
      "Intern Trainee ->>>>>>>> WORKED AS\n",
      "B.CA St. Subhash College, Hyderabad 2020.\n",
      " ->>>>>>>> COLLEGE NAME\n",
      "####################################################################################################\n",
      "AXIS BANK LIMITED ->>>>>>>> COMPANIES WORKED AT\n",
      "SOFTWARE DEVELOPER(MACHINE LEARNING ENGINEER) ->>>>>>>> WORKED AS\n",
      "SEAN CAMPBELL ->>>>>>>> COMPANIES WORKED AT\n",
      "####################################################################################################\n",
      "DESARKS ->>>>>>>> COMPANIES WORKED AT\n",
      "SOFTWARE DEVELOPER ->>>>>>>> WORKED AS\n",
      "####################################################################################################\n",
      "Biswa Pvt Ltd ->>>>>>>> COMPANIES WORKED AT\n",
      "Part-Time Analyst ->>>>>>>> WORKED AS\n",
      "####################################################################################################\n",
      "CAMILLA BROWN ->>>>>>>> NAME\n",
      "####################################################################################################\n",
      "MICHAEL REEVER ->>>>>>>> NAME\n",
      "Systemica Consultants ->>>>>>>> COMPANIES WORKED AT\n",
      "Bsc (IT) University of Mangalore, 2019 ->>>>>>>> DEGREE\n",
      "####################################################################################################\n",
      "AMBER GREEN\n",
      "FRESHER ->>>>>>>> NAME\n",
      "EMPLOYMENT HISTORY ->>>>>>>> COMPANIES WORKED AT\n",
      "Intern at Machine Learning and cognitive division. ->>>>>>>> WORKED AS\n",
      "Intern ->>>>>>>> WORKED AS\n",
      "ZoomBot ->>>>>>>> COMPANIES WORKED AT\n",
      "####################################################################################################\n",
      "ASHLEY HAYDON ->>>>>>>> NAME\n",
      "SDE Intern ->>>>>>>> WORKED AS\n",
      "EDUCATIONAL HISTORY ->>>>>>>> COLLEGE NAME\n",
      "B.Tech/B.E. (Computers) from JECO, Noida ->>>>>>>> DEGREE\n",
      "####################################################################################################\n",
      "JEREMY WANG ->>>>>>>> NAME\n",
      "DKB Innovations ->>>>>>>> COMPANIES WORKED AT\n",
      "PYTHON INTERN ->>>>>>>> WORKED AS\n",
      "####################################################################################################\n",
      "DAMIAN ROSSIER ->>>>>>>> NAME\n",
      "Passionate Solution ->>>>>>>> COMPANIES WORKED AT\n",
      "Jr. Data Scientist ->>>>>>>> WORKED AS\n",
      "EDUCATION ->>>>>>>> COMPANIES WORKED AT\n",
      "B.CA KVoCT ->>>>>>>> WORKED AS\n",
      "####################################################################################################\n",
      "Blockchain Analyst ->>>>>>>> WORKED AS\n",
      "BCA from SP Jain University, 2019 ->>>>>>>> DEGREE\n",
      "WORK EXPERIENCE\n",
      "EDUCATION ->>>>>>>> CERTIFICATION\n",
      "EVERETT BURNSLEY ->>>>>>>> NAME\n",
      "####################################################################################################\n",
      "Orchidia Tours and Travels ->>>>>>>> COMPANIES WORKED AT\n",
      "Data Managerial Intern ->>>>>>>> WORKED AS\n",
      "EDUCATION ->>>>>>>> COLLEGE NAME\n",
      "B.Tech, ECE ->>>>>>>> DEGREE\n",
      "Maulana Malviya College ->>>>>>>> COLLEGE NAME\n",
      "####################################################################################################\n",
      "BETHANY CUMMINS ->>>>>>>> NAME\n",
      "KPG Solutions Pvt Ltd ->>>>>>>> COMPANIES WORKED AT\n",
      "Deep Learning Engineer Intern ->>>>>>>> WORKED AS\n",
      "Virtual Internship on Data Science and Business Analytics ->>>>>>>> WORKED AS\n",
      "####################################################################################################\n",
      "Telco ->>>>>>>> COMPANIES WORKED AT\n",
      "Trainee Intern ->>>>>>>> WORKED AS\n",
      "Sai Charan Singh University ->>>>>>>> UNIVERSITY\n",
      "M.Tech(Data Science) ->>>>>>>> DEGREE\n",
      "FELIX WINSTON ->>>>>>>> UNIVERSITY\n",
      "####################################################################################################\n",
      "Dass Systems ->>>>>>>> COMPANIES WORKED AT\n",
      "Junior Machine Learning Engineer ->>>>>>>> WORKED AS\n",
      "ROBERT MATHEWS ->>>>>>>> NAME\n",
      "MACHINE LEARNING ENGINEER (QUALITY CONTROL) ->>>>>>>> SKILLS\n",
      "####################################################################################################\n",
      "LISA JENNINGS ->>>>>>>> NAME\n",
      "Sahara Medica ->>>>>>>> COMPANIES WORKED AT\n",
      "Intern Dec 2019- ->>>>>>>> WORKED AS\n",
      "EDUCATION ->>>>>>>> UNIVERSITY\n",
      "B.Tech, Visveswaraiah Technological\n",
      "University (VTU) ->>>>>>>> DEGREE\n",
      "####################################################################################################\n",
      "SAMUEL LEE ->>>>>>>> NAME\n",
      "S2H Minds Pvt Ltd ->>>>>>>> COMPANIES WORKED AT\n",
      "Junior Machine Learning Engineer ->>>>>>>> WORKED AS\n",
      "ACADEMIC PROFILE ->>>>>>>> COLLEGE NAME\n",
      "B.Sc (Statistics) from Osmania University in 2019 ->>>>>>>> DEGREE\n",
      "University of Waterloo.\n",
      " ->>>>>>>> UNIVERSITY\n",
      "####################################################################################################\n",
      "Publicis Sapient ->>>>>>>> COMPANIES WORKED AT\n",
      "DATA PROGRAMMER ->>>>>>>> WORKED AS\n",
      "Publicis Sapient ->>>>>>>> COMPANIES WORKED AT\n",
      "ANALYST INTERN ->>>>>>>> WORKED AS\n",
      "B.Tech (Electrical), NIST Kottam, 2019 ->>>>>>>> DEGREE\n",
      "GRANT ABBERNS ->>>>>>>> COMPANIES WORKED AT\n",
      "DATA MANAGER ->>>>>>>> WORKED AS\n",
      "####################################################################################################\n",
      "SK JADODIA LABS ->>>>>>>> COMPANIES WORKED AT\n",
      "CHEMICAL SYNTHESIS RESEARCH ASISTANT ->>>>>>>> WORKED AS\n",
      "SCARLETT MESTOS ->>>>>>>> NAME\n",
      "M.TECH CHEMICAL SYNTHESIS KSV UNIVERSITY KOCHI ->>>>>>>> DEGREE\n",
      "####################################################################################################\n",
      "Tech Mahindra ->>>>>>>> COMPANIES WORKED AT\n",
      "Business Associate ->>>>>>>> WORKED AS\n",
      "B.Tech (Computers) from SPPU in 2018 ->>>>>>>> DEGREE\n",
      "####################################################################################################\n",
      "Tata Sons ->>>>>>>> COMPANIES WORKED AT\n",
      "Analyst Support ->>>>>>>> WORKED AS\n",
      "MARCUS BEUFORD ->>>>>>>> UNIVERSITY\n",
      "####################################################################################################\n",
      "HELENA PATRICKS ->>>>>>>> NAME\n",
      "EDUCATION ->>>>>>>> COLLEGE NAME\n",
      "B.Sc(CA) MIET, Baliya(UP) 2021.\n",
      "PERSONAL PROFILE\n",
      "Fresher who is well acquainted with some\n",
      "of the Natural Language Processing (NLP)\n",
      "and text analysis. I have worked on a few\n",
      "projects and also on databases to extract\n",
      "data and process them. In search of a role\n",
      "where I can understand about the\n",
      "commercial applications and contribute to\n",
      "them.\n",
      "WORK BACKGROUND\n",
      "Chrysalis \n",
      "Python Developer Intern ->>>>>>>> DEGREE\n",
      "####################################################################################################\n",
      "Data Analysis with python ->>>>>>>> SKILLS\n",
      "Machine Learning Stanford University ->>>>>>>> UNIVERSITY\n",
      "BrainStrom ->>>>>>>> COMPANIES WORKED AT\n",
      "Machine Learning Engineer ->>>>>>>> WORKED AS\n",
      "IBB Tech Pvt Ltd Junior ->>>>>>>> COMPANIES WORKED AT\n",
      "Machine Learning Intern ->>>>>>>> WORKED AS\n",
      "B.Tech (Telecommunication) from SKN, Coimbatore in 2019 ->>>>>>>> DEGREE\n",
      "####################################################################################################\n",
      "QUANTIMUM ->>>>>>>> COMPANIES WORKED AT\n",
      "INTERN ->>>>>>>> WORKED AS\n",
      "JESSICA PARKAR ->>>>>>>> NAME\n",
      "G R A D U A T E   ->>>>>>>> COLLEGE NAME\n",
      "NAZAPP ->>>>>>>> COMPANIES WORKED AT\n",
      "SOFTWARE DEVELOPER INTERN ->>>>>>>> WORKED AS\n",
      "####################################################################################################\n",
      "Remiro Amio ->>>>>>>> COMPANIES WORKED AT\n",
      "Intern ->>>>>>>> WORKED AS\n",
      "B.Tech (IT) from DJR College and University ->>>>>>>> DEGREE\n",
      "CARLY JENSEN ->>>>>>>> NAME\n",
      "####################################################################################################\n",
      "VIOLET JOSEPH ->>>>>>>> NAME\n",
      "Associate Consultant ->>>>>>>> WORKED AS\n",
      "Tanisha Quromba Brokerage ->>>>>>>> COMPANIES WORKED AT\n",
      "Junior Analyst Intern ->>>>>>>> WORKED AS\n",
      "ACADEMIC PROFILE ->>>>>>>> COMPANIES WORKED AT\n",
      "Raja Kashwant Singh ->>>>>>>> NAME\n",
      "Silver Medal For Economics Junior\n",
      "Award. ->>>>>>>> AWARDS\n",
      "Finalist at business solution PAN\n",
      "India. \n",
      " ->>>>>>>> AWARDS\n",
      "Winner and Runner-Up for Young ->>>>>>>> AWARDS\n",
      "Economist Innovation 2018 and\n",
      "2019 ->>>>>>>> AWARDS\n",
      "####################################################################################################\n",
      "OWEN SHAW ->>>>>>>> NAME\n",
      "MACHINE LEARNING ENGINEER ->>>>>>>> SKILLS\n",
      "Machine Learning Engineer ->>>>>>>> WORKED AS\n",
      "Tata Consultancy Services ->>>>>>>> COMPANIES WORKED AT\n",
      "B.Tech(Electronics/Telecommunication) ->>>>>>>> DEGREE\n",
      "MSc (Data Science), Part-time ->>>>>>>> DEGREE\n",
      "####################################################################################################\n",
      "Intern ->>>>>>>> WORKED AS\n",
      "GINANNA GOMEZ ->>>>>>>> NAME\n",
      "####################################################################################################\n",
      "JAYLA RAMIREZ ->>>>>>>> NAME\n",
      "DATA SCIENCE ENGINEER\n",
      "PROFESSIONAL PROFILE ->>>>>>>> SKILLS\n",
      "PROFICIENT SKILLS ->>>>>>>> COMPANIES WORKED AT\n",
      "Associate Data Science Engineer ->>>>>>>> WORKED AS\n",
      "Geakminds Inc ->>>>>>>> COMPANIES WORKED AT\n",
      "MBA from SRM university (SRMU) in 2019 ->>>>>>>> DEGREE\n",
      "ACHIEVEMENTS AND EXTRA\n",
      "CURRICULAR ->>>>>>>> COMPANIES WORKED AT\n",
      "Data Analyst Nano Degree - Udacity ->>>>>>>> WORKED AS\n",
      "####################################################################################################\n",
      "TSC Solutions ->>>>>>>> COMPANIES WORKED AT\n",
      "Junior Machine Learning Engineer ->>>>>>>> WORKED AS\n",
      "EDUCATION ->>>>>>>> UNIVERSITY\n",
      "B.Tech(Electronics/Telecommunication\n",
      ") ->>>>>>>> DEGREE\n",
      "####################################################################################################\n",
      "EMPOWERED TECHNOLOGIES ->>>>>>>> COMPANIES WORKED AT\n",
      "CARLTON BROOKE ->>>>>>>> COMPANIES WORKED AT\n",
      "BACHELOR OF ENGINEERING (COMPUTER ENGINEERING) FROM\n",
      "UNIVERSITY OF PUNE, PUNE IN 2019 ->>>>>>>> DEGREE\n",
      "####################################################################################################\n",
      "JULIA CHEN ->>>>>>>> NAME\n",
      "Tata Consultancy Services Ltd. ->>>>>>>> COMPANIES WORKED AT\n",
      "Junior Data Engineer ->>>>>>>> WORKED AS\n",
      "ACADEMIC PROFILE ->>>>>>>> COMPANIES WORKED AT\n",
      "B.Tech (Instrumentation and Control) ->>>>>>>> DEGREE\n",
      "####################################################################################################\n",
      "JOSE GARCIA ->>>>>>>> NAME\n",
      "EMPLOYMENT HISTORY ->>>>>>>> COMPANIES WORKED AT\n",
      "Virtual Internship on data engineering on the cloud.\n",
      "Intern ->>>>>>>> WORKED AS\n",
      "CB\n",
      "EDUCATIONAL HISTORY ->>>>>>>> COLLEGE NAME\n",
      "B.Tech(Computers) from VIT-AP ->>>>>>>> DEGREE\n",
      "ACHIEVEMENTS AND EXTRA ->>>>>>>> COLLEGE NAME\n",
      "####################################################################################################\n",
      "NADIYA AHMAD ->>>>>>>> NAME\n",
      "HSBC Bank ->>>>>>>> COMPANIES WORKED AT\n",
      "Data Analyst ->>>>>>>> WORKED AS\n",
      "ACADEMIC PROFILE ->>>>>>>> COMPANIES WORKED AT\n",
      "B.Tech (IT) ->>>>>>>> DEGREE\n",
      "####################################################################################################\n",
      "Sanrachna SGT University ->>>>>>>> COMPANIES WORKED AT\n",
      "Deputy Data Analyst ->>>>>>>> WORKED AS\n",
      "BSc (Information Technology) from Sikkim Manipal\n",
      "university in 2019 ->>>>>>>> DEGREE\n",
      "JAIME HORAN ->>>>>>>> NAME\n",
      "ABOUT\n",
      "SKILLS ->>>>>>>> COMPANIES WORKED AT\n",
      "####################################################################################################\n",
      "MIKAYLA NEUER ->>>>>>>> UNIVERSITY\n",
      "Indosis Care ->>>>>>>> COMPANIES WORKED AT\n",
      "Junior System Engineer Analyst ->>>>>>>> WORKED AS\n",
      "####################################################################################################\n",
      "Certification on Machine Learning\n",
      "Projects ->>>>>>>> CERTIFICATION\n",
      "Banhadau Model For Translation. ->>>>>>>> CERTIFICATION\n",
      "Kerala Research Foundation ->>>>>>>> COMPANIES WORKED AT\n",
      "Graduate Research Assistant ->>>>>>>> WORKED AS\n",
      "B.Tech from Kerala University in 2018 ->>>>>>>> UNIVERSITY\n",
      "M.Tech from Kerala University in 2020 ->>>>>>>> DEGREE\n",
      "####################################################################################################\n",
      "MAYA HAYDEN ->>>>>>>> NAME\n",
      "IIT Labs ->>>>>>>> COMPANIES WORKED AT\n",
      "Associate Researcher ->>>>>>>> WORKED AS\n",
      "EDUCATION ->>>>>>>> COMPANIES WORKED AT\n",
      "B.Tech IIT Kharagpur, 2017\n",
      "M.Tech IIT Kharagpur, 2019 ->>>>>>>> DEGREE\n",
      "####################################################################################################\n",
      "MIRAD YASTEIN ->>>>>>>> NAME\n",
      "EDUCATION ->>>>>>>> COLLEGE NAME\n",
      "B.Tech(IT) from IIIT D&M Kancheepuram, Chennai in 2019 ->>>>>>>> DEGREE\n",
      "WORK BACKGROUND ->>>>>>>> COMPANIES WORKED AT\n",
      "Larsen & Toubro ->>>>>>>> COMPANIES WORKED AT\n",
      "Analyst Intern ->>>>>>>> WORKED AS\n",
      "####################################################################################################\n",
      "Kripa Infotech ->>>>>>>> COMPANIES WORKED AT\n",
      "Associate Market Research Analyst Intern ->>>>>>>> WORKED AS\n",
      "B.Tech(Mechanical) ->>>>>>>> DEGREE\n",
      "####################################################################################################\n",
      "KELSEY STENS ->>>>>>>> NAME\n",
      "SKILLS ->>>>>>>> UNIVERSITY\n",
      "EDUCATION ->>>>>>>> COLLEGE NAME\n",
      "B.Tech (ECE) ->>>>>>>> DEGREE\n",
      "KLP Technology Solutions ->>>>>>>> COMPANIES WORKED AT\n",
      "Software Engineer ->>>>>>>> WORKED AS\n",
      "####################################################################################################\n",
      "BENJAMIN OSTA ->>>>>>>> NAME\n",
      "Flipkart ->>>>>>>> COMPANIES WORKED AT\n",
      "####################################################################################################\n",
      "LTT DIGITAL SERVICES ->>>>>>>> COMPANIES WORKED AT\n",
      "MARIANA HOLDEN ->>>>>>>> COMPANIES WORKED AT\n",
      "BSC (CA) FROM UNIVERSITY OF HYDERABAD, 2019 ->>>>>>>> DEGREE\n",
      "####################################################################################################\n",
      "COla ->>>>>>>> COMPANIES WORKED AT\n",
      "Big Data Analyst ->>>>>>>> WORKED AS\n",
      "JEROME PELINSKY ->>>>>>>> NAME\n",
      "ABOUT\n",
      "SKILLS ->>>>>>>> COMPANIES WORKED AT\n",
      "####################################################################################################\n",
      "Jaroslav Chechnik ->>>>>>>> NAME\n",
      "Deep Learning Masters ->>>>>>>> SKILLS\n",
      "Machine Learning ->>>>>>>> SKILLS\n",
      "Experts Hub ->>>>>>>> COMPANIES WORKED AT\n",
      "Intern ->>>>>>>> WORKED AS\n",
      "SMART PARKING SYSTEM ->>>>>>>> COMPANIES WORKED AT\n",
      "B. Tech, ECE VIT-AP University 2021\n",
      " ->>>>>>>> DEGREE\n",
      "####################################################################################################\n",
      "Bristlecone ->>>>>>>> COMPANIES WORKED AT\n",
      "Machine Learning Engineer ->>>>>>>> WORKED AS\n",
      "B.Tech from Thakur Shiv Kumar Singh Memorial Engineering College ->>>>>>>> DEGREE\n",
      "Diploma (Big Data Analytics) ->>>>>>>> DEGREE\n",
      "####################################################################################################\n",
      "MATTHEW HORRES ->>>>>>>> NAME\n",
      "Gruvil Technologies ->>>>>>>> COMPANIES WORKED AT\n",
      "Intern Trainee ->>>>>>>> WORKED AS\n",
      "DRDO ->>>>>>>> COMPANIES WORKED AT\n",
      "Intern Developer ->>>>>>>> WORKED AS\n",
      "ACADEMIC PROFILE ->>>>>>>> COLLEGE NAME\n",
      "B.Tech, Electrical ->>>>>>>> DEGREE\n",
      "####################################################################################################\n",
      "SHAWN BUFFET ->>>>>>>> NAME\n",
      "Data Processing Junior Intern ->>>>>>>> WORKED AS\n",
      "SaiKo Computation ->>>>>>>> COMPANIES WORKED AT\n",
      "B.Tech Sl Thala Model college Orissa ->>>>>>>> DEGREE\n",
      "####################################################################################################\n",
      "TIMOTHY PETERSON ->>>>>>>> NAME\n",
      "NaxApp ->>>>>>>> COMPANIES WORKED AT\n",
      "Software Development Intern ->>>>>>>> WORKED AS\n",
      "####################################################################################################\n",
      "One97 Communications Limited ->>>>>>>> COMPANIES WORKED AT\n",
      "Data Scientist ->>>>>>>> WORKED AS\n",
      "M.Tech (Computer Science Engineering) from Indian\n",
      "Institute of Technology (IIT), Kanpur in 2019 ->>>>>>>> DEGREE\n",
      "MACY WILLIAMS ->>>>>>>> NAME\n",
      "####################################################################################################\n",
      "SADHANA CONSULTANTS ->>>>>>>> COMPANIES WORKED AT\n",
      "DATA SCIENTIST-ANALYTICS & INSIGHTS ->>>>>>>> WORKED AS\n",
      "MATILDA BENHAMS ->>>>>>>> COMPANIES WORKED AT\n",
      "####################################################################################################\n"
     ]
    }
   ],
   "source": [
    "import sys, fitz\n",
    "for i in z:\n",
    "  doc=fitz.open(i)\n",
    "  text=' '\n",
    "  for page in doc:\n",
    "    text=text+str(page.get_text())\n",
    "  doc=nlp(text)\n",
    "  for ent in doc.ents:\n",
    "    print(ent.text,'->>>>>>>>',ent.label_)\n",
    "  print('##'*50)"
   ]
  },
  {
   "cell_type": "code",
   "execution_count": null,
   "metadata": {
    "colab": {
     "base_uri": "https://localhost:8080/"
    },
    "id": "rLdGbPI_LRWn",
    "outputId": "fb35ebe4-ea22-41d1-e519-1cc4179d239f"
   },
   "outputs": [
    {
     "name": "stdout",
     "output_type": "stream",
     "text": [
      "IRRM International ->>>>>>>> COMPANIES WORKED AT\n",
      "Junior Analyst Expert ->>>>>>>> WORKED AS\n",
      "B.Tech(Computer Science) SRM IT, Chennal 2021 ->>>>>>>> DEGREE\n",
      "####################################################################################################\n"
     ]
    }
   ],
   "source": [
    "\n",
    "doc=fitz.open('/content/drive/MyDrive/resume/trainResumes/candidate_049.pdf')\n",
    "text=' '\n",
    "for page in doc:\n",
    "  text=text+str(page.get_text())\n",
    "doc=nlp(text)\n",
    "for ent in doc.ents:\n",
    "  print(ent.text,'->>>>>>>>',ent.label_)\n",
    "print('##'*50)"
   ]
  },
  {
   "cell_type": "code",
   "execution_count": null,
   "metadata": {
    "colab": {
     "base_uri": "https://localhost:8080/",
     "height": 215
    },
    "id": "NiMDcoPrLZyn",
    "outputId": "8b55ff7d-5be3-478f-8565-93c6c5af438d"
   },
   "outputs": [
    {
     "data": {
      "application/vnd.google.colaboratory.intrinsic+json": {
       "type": "string"
      },
      "text/plain": [
       "' ANUVA GOYAL\\n� anuvagoyal111@gmail.com\\n� Agra, Uttar Pradesh, India\\n� github.com/AnuvaGoyal\\nPROJECTS\\n• Mental Healthcare Chatbot that provides ad-\\nvice to the user based on diﬀerent categories\\nof mental health problems using a dataset\\nwebscraped from counselchat.com (Nov 2021)\\n• Full stack Speech Emotion based Movie\\nRecommender System using the RAVDESS\\nDataset and Web Scraping techniques (Oct\\n2021)\\n• Finding a Perfect Fit, a model to parse re-\\nsumes using Pytesseract, NLP and XG Boost\\nand Random Forest classiﬁcation techniques\\n(Aug 2021)\\n• Face Mask Detection which detects the face\\nusing Haar Cascade Classiﬁer and classiﬁes\\nthe image into one of the three categories-\\nWithout Mask, With Mask and Incorrect Mask\\n(May 2021)\\nEDUCATION\\nB.Tech, Electrical Engineering with\\nComputer Science Specialisation\\nDayalbagh Educational Institute, Agra\\n� July 2019– Present (SGPA 9.35 - 4 SEM)\\nHigher Secondary School Certiﬁcate\\nSt. Clare’s Senior Secondary School, Agra\\n� 2019 (94%)\\nSecondary School Certiﬁcate\\nSt. Clare’s Senior Secondary School, Agra\\n� 2017 (CGPA 10)\\nPUBLICATION\\nresearchgate.net/proﬁle/Anuva_Goyal\\nSKILLS\\nC, C++\\n○ ○ ○ ○ ○\\nPython, SQL\\n○ ○ ○ ○ ○\\nData Structures\\n○ ○ ○ ○ ○\\nCSS, HTML\\n○ ○ ○ ○ ○\\nMachine Learning Frameworks: NumPy,\\nPandas, Tensorﬂow, Scikit-Learn, OpenCV,\\nPytesseract, BeautifulSoup\\nINTERESTS\\n• ML and Deep Learning.\\n• NLP and Computer Vision\\nEXPERIENCE\\nSummer Intern\\nGenisup India Pvt. Ltd., Hosur, Tamil Nadu\\n� June 2021 – Aug 2021\\n� Remote\\n• Internship on the topic NLP: Topic Modeling to assign the\\ntheme or topic for any news article on internet using Machine\\nLearning techniques.\\n• Worked on proxy rotation and Web Scraping\\n• Performed LDA Topic Modeling on “The Hindu” news articles\\nand obtained precision score of 0.906.\\nIntern Trainee\\nVUGS Technologies Pvt. Ltd., Agra, Uttar Pradesh\\n� May 2021 – June 2021\\n� Remote\\n• Built an OCR using Pytesseract and NER Text Classiﬁcation\\nModel to categorize detected text into Name, E-mail Address,\\nPhone number and Date using NLTK,SpaCy and BERT\\n• Created an OCR for Handwritten text [A-Z, 0-9] using CNN\\narchitecture\\n• Built a Face Recognition Model and Face Mask Detection\\nModel using OpenCV and Haar Cascade Classiﬁer.\\nTRAININGS\\nDeep Learning and Computer Vision A-Z: OpenCV,\\nSSD, GANs\\nUdemy\\n� Nov 2021 – Dec 2021\\n30 Days of Google Cloud\\nGoogle LLC\\n� Oct 2021 – Nov 2021\\nNeural Networks and Deep Learning\\nCoursera\\n� Mar 2021 – Apr 2021\\nMachine Learning A-Z: Hands on Python and R\\nin Data Science\\nUdemy\\n� Dec 2020 – Feb 2021\\nACHIEVEMENTS\\n• Speaker at ML/AI Event organized by the Google Developers\\nStudent Club, DEI (Dec 2021)\\n• Secured 3rd position in TECH-A-THON organized by The ECE\\nSociety, BIT Mesra, Ranchi (Oct 2021)\\n• Attended online KLA Workshop on AI and HPC in Semicon-\\nductor Manufacturing organized by IIT Madras (Sep 2021)\\n• Won 1st prize in the online competition Game of Brands orga-\\nnized by SGGSCC, University of Delhi (Mar 2021)\\n'"
      ]
     },
     "execution_count": 26,
     "metadata": {},
     "output_type": "execute_result"
    }
   ],
   "source": [
    "text\n"
   ]
  },
  {
   "cell_type": "code",
   "execution_count": null,
   "metadata": {
    "colab": {
     "base_uri": "https://localhost:8080/"
    },
    "id": "MQsG_zDgLcl8",
    "outputId": "72a2d3dc-f2a5-4717-d811-2467113ab61f"
   },
   "outputs": [
    {
     "name": "stdout",
     "output_type": "stream",
     "text": [
      "anuvagoyal111@gmail.com ->>>>>>>> EMAIL ADDRESS\n",
      "Agra, Uttar Pradesh, India ->>>>>>>> LOCATION\n",
      "EDUCATION ->>>>>>>> UNIVERSITY\n",
      "B.Tech, Electrical Engineering with\n",
      "Computer Science Specialisation ->>>>>>>> DEGREE\n",
      "Dayalbagh Educational Institute, Agra ->>>>>>>> COLLEGE NAME\n",
      "Data Structures ->>>>>>>> SKILLS\n",
      "Summer Intern ->>>>>>>> WORKED AS\n",
      "Genisup India Pvt. Ltd., Hosur, Tamil Nadu ->>>>>>>> COMPANIES WORKED AT\n",
      "Intern Trainee ->>>>>>>> WORKED AS\n",
      "VUGS Technologies Pvt. Ltd., Agra, Uttar Pradesh ->>>>>>>> COMPANIES WORKED AT\n",
      "Udemy ->>>>>>>> WORKED AS\n",
      "30 Days of Google Cloud ->>>>>>>> COMPANIES WORKED AT\n",
      "Google LLC ->>>>>>>> COMPANIES WORKED AT\n",
      "Coursera ->>>>>>>> WORKED AS\n",
      "Machine Learning A-Z: Hands on Python and R\n",
      "in Data Science\n",
      "Udemy ->>>>>>>> WORKED AS\n"
     ]
    }
   ],
   "source": [
    "doc=nlp(text)\n",
    "for ent in doc.ents:\n",
    "  print(ent.text,'->>>>>>>>',ent.label_)"
   ]
  }
 ],
 "metadata": {
  "accelerator": "GPU",
  "colab": {
   "gpuType": "T4",
   "provenance": []
  },
  "gpuClass": "standard",
  "kernelspec": {
   "display_name": "Python 3 (ipykernel)",
   "language": "python",
   "name": "python3"
  },
  "language_info": {
   "codemirror_mode": {
    "name": "ipython",
    "version": 3
   },
   "file_extension": ".py",
   "mimetype": "text/x-python",
   "name": "python",
   "nbconvert_exporter": "python",
   "pygments_lexer": "ipython3",
   "version": "3.11.5"
  }
 },
 "nbformat": 4,
 "nbformat_minor": 1
}
